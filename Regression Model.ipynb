{
  "nbformat": 4,
  "nbformat_minor": 0,
  "metadata": {
    "colab": {
      "provenance": []
    },
    "kernelspec": {
      "name": "python3",
      "display_name": "Python 3"
    },
    "language_info": {
      "name": "python"
    }
  },
  "cells": [
    {
      "cell_type": "markdown",
      "source": [
        "Importing necessary library from model"
      ],
      "metadata": {
        "id": "LIbU87GjCZuF"
      }
    },
    {
      "cell_type": "code",
      "source": [
        "import pandas as pd\n",
        "import numpy as np\n",
        "import seaborn as sns\n"
      ],
      "metadata": {
        "id": "1mqtpfSasJa6"
      },
      "execution_count": 81,
      "outputs": []
    },
    {
      "cell_type": "markdown",
      "source": [
        "importing data files in pandas read function"
      ],
      "metadata": {
        "id": "7HvsMH-osnDa"
      }
    },
    {
      "cell_type": "code",
      "source": [
        "df = pd.read_csv(r'/content/ML case Study.csv')\n",
        "college= pd.read_csv(r'/content/Colleges.csv')\n",
        "cities= pd.read_csv(r'/content/cities.csv')"
      ],
      "metadata": {
        "id": "DsPyfzaIsqPV"
      },
      "execution_count": 82,
      "outputs": []
    },
    {
      "cell_type": "markdown",
      "source": [
        "Making list"
      ],
      "metadata": {
        "id": "LlXzRGC-Yhfo"
      }
    },
    {
      "cell_type": "code",
      "source": [
        "Tier1 = college['Tier 1'].tolist()\n",
        "Tier2 = college['Tier 2'].tolist()\n",
        "Tier3 = college['Tier 3'].tolist()\n",
        "metro_city = cities['Metrio City'].tolist()\n",
        "non_metro_cities = cities['non-metro cities'].tolist()\n"
      ],
      "metadata": {
        "id": "zgfTUiGAtcYq"
      },
      "execution_count": 83,
      "outputs": []
    },
    {
      "cell_type": "markdown",
      "source": [
        "Using for and if-elif fuction for columns"
      ],
      "metadata": {
        "id": "iUuxTJg6CW7u"
      }
    },
    {
      "cell_type": "code",
      "source": [
        "for item in df.College:\n",
        "  if item in Tier1:\n",
        "    df[\"College\"].replace(item,3,inplace=True)\n",
        "  elif item in Tier2:\n",
        "    df[\"College\"].replace(item,2,inplace=True)\n",
        "  elif item in Tier3:\n",
        "    df[\"College\"].replace(item,1,inplace=True)\n",
        "df = pd.get_dummies(df, columns=['College'])\n"
      ],
      "metadata": {
        "id": "V43g8gWxuaAu"
      },
      "execution_count": 84,
      "outputs": []
    },
    {
      "cell_type": "code",
      "source": [
        "for item in df.City:\n",
        "  if item in metro_city:\n",
        "    df[\"City\"].replace(item,1,inplace=True)\n",
        "  elif item in non_metro_cities:\n",
        "    df[\"City\"].replace(item,0,inplace=True)\n",
        "df = pd.get_dummies(df, columns=['City'])\n",
        "df = pd.get_dummies(df,columns=['Role'])"
      ],
      "metadata": {
        "id": "HgmS60Pu5oCm"
      },
      "execution_count": 85,
      "outputs": []
    },
    {
      "cell_type": "markdown",
      "source": [
        " Finding Outliers through Boxplot"
      ],
      "metadata": {
        "id": "2kTnm0M8BA-C"
      }
    },
    {
      "cell_type": "code",
      "source": [
        "import matplotlib.pyplot as plt"
      ],
      "metadata": {
        "id": "AH4z13MuBTak"
      },
      "execution_count": 86,
      "outputs": []
    },
    {
      "cell_type": "code",
      "source": [
        "# Create a sample dataset (replace with your actual dataset)\n",
        "data = df['Previous CTC']\n",
        "\n",
        "# Create a boxplot using Seaborn\n",
        "plt.figure(figsize=(8, 6))\n",
        "sns.boxplot(x=data, orient='v')  # 'v' for vertical orientation\n",
        "\n",
        "# Add labels and title\n",
        "plt.xlabel('Data')\n",
        "plt.ylabel('Values')\n",
        "plt.title('Boxplot for Outlier Detection')\n",
        "\n",
        "# Show the plot\n",
        "plt.show()"
      ],
      "metadata": {
        "colab": {
          "base_uri": "https://localhost:8080/",
          "height": 599
        },
        "id": "6pPjdZCnAT8Z",
        "outputId": "6298faf4-7fb0-47ff-cb98-aa5523d422ca"
      },
      "execution_count": 87,
      "outputs": [
        {
          "output_type": "stream",
          "name": "stderr",
          "text": [
            "/usr/local/lib/python3.10/dist-packages/seaborn/_oldcore.py:1599: UserWarning: Vertical orientation ignored with only `x` specified.\n",
            "  warnings.warn(single_var_warning.format(\"Vertical\", \"x\"))\n"
          ]
        },
        {
          "output_type": "display_data",
          "data": {
            "text/plain": [
              "<Figure size 800x600 with 1 Axes>"
            ],
            "image/png": "[encoded data removed]"
          },
          "metadata": {}
        }
      ]
    },
    {
      "cell_type": "code",
      "source": [
        "# Create a sample dataset (replace with your actual dataset)\n",
        "data = df['Previous job change']\n",
        "\n",
        "# Create a boxplot using Seaborn\n",
        "plt.figure(figsize=(8, 6))\n",
        "sns.boxplot(x=data, orient='v')  # 'v' for vertical orientation\n",
        "\n",
        "# Add labels and title\n",
        "plt.xlabel('Data')\n",
        "plt.ylabel('Values')\n",
        "plt.title('Boxplot for Outlier Detection')\n",
        "\n",
        "# Show the plot\n",
        "plt.show()"
      ],
      "metadata": {
        "colab": {
          "base_uri": "https://localhost:8080/",
          "height": 599
        },
        "id": "xiG7PaduB5j8",
        "outputId": "93fd93ef-8b45-4d28-c0fc-ba8ff7051fde"
      },
      "execution_count": 88,
      "outputs": [
        {
          "output_type": "stream",
          "name": "stderr",
          "text": [
            "/usr/local/lib/python3.10/dist-packages/seaborn/_oldcore.py:1599: UserWarning: Vertical orientation ignored with only `x` specified.\n",
            "  warnings.warn(single_var_warning.format(\"Vertical\", \"x\"))\n"
          ]
        },
        {
          "output_type": "display_data",
          "data": {
            "text/plain": [
              "<Figure size 800x600 with 1 Axes>"
            ],
            "image/png": "[encoded data removed]"
          },
          "metadata": {}
        }
      ]
    },
    {
      "cell_type": "code",
      "source": [
        "# Create a sample dataset (replace with your actual dataset)\n",
        "data = df['Graduation Marks']\n",
        "\n",
        "# Create a boxplot using Seaborn\n",
        "plt.figure(figsize=(8, 6))\n",
        "sns.boxplot(x=data, orient='v')  # 'v' for vertical orientation\n",
        "\n",
        "# Add labels and title\n",
        "plt.xlabel('Data')\n",
        "plt.ylabel('Values')\n",
        "plt.title('Boxplot for Outlier Detection')\n",
        "\n",
        "# Show the plot\n",
        "plt.show()"
      ],
      "metadata": {
        "colab": {
          "base_uri": "https://localhost:8080/",
          "height": 599
        },
        "id": "je7XRPzlC3tH",
        "outputId": "3e2cfe0e-4462-4248-afff-36f8e447c5d5"
      },
      "execution_count": 89,
      "outputs": [
        {
          "output_type": "stream",
          "name": "stderr",
          "text": [
            "/usr/local/lib/python3.10/dist-packages/seaborn/_oldcore.py:1599: UserWarning: Vertical orientation ignored with only `x` specified.\n",
            "  warnings.warn(single_var_warning.format(\"Vertical\", \"x\"))\n"
          ]
        },
        {
          "output_type": "display_data",
          "data": {
            "text/plain": [
              "<Figure size 800x600 with 1 Axes>"
            ],
            "image/png": "[encoded data removed]"
          },
          "metadata": {}
        }
      ]
    },
    {
      "cell_type": "code",
      "source": [
        "# Create a sample dataset (replace with your actual dataset)\n",
        "data = df['EXP (Month)']\n",
        "\n",
        "# Create a boxplot using Seaborn\n",
        "plt.figure(figsize=(8, 6))\n",
        "sns.boxplot(x=data, orient='v')  # 'v' for vertical orientation\n",
        "\n",
        "# Add labels and title\n",
        "plt.xlabel('Data')\n",
        "plt.ylabel('Values')\n",
        "plt.title('Boxplot for Outlier Detection')\n",
        "\n",
        "# Show the plot\n",
        "plt.show()"
      ],
      "metadata": {
        "colab": {
          "base_uri": "https://localhost:8080/",
          "height": 599
        },
        "id": "ghkeRVAZDQGd",
        "outputId": "d0287916-8af6-47a7-8fff-9441cb6852ff"
      },
      "execution_count": 90,
      "outputs": [
        {
          "output_type": "stream",
          "name": "stderr",
          "text": [
            "/usr/local/lib/python3.10/dist-packages/seaborn/_oldcore.py:1599: UserWarning: Vertical orientation ignored with only `x` specified.\n",
            "  warnings.warn(single_var_warning.format(\"Vertical\", \"x\"))\n"
          ]
        },
        {
          "output_type": "display_data",
          "data": {
            "text/plain": [
              "<Figure size 800x600 with 1 Axes>"
            ],
            "image/png": "[encoded data removed]"
          },
          "metadata": {}
        }
      ]
    },
    {
      "cell_type": "markdown",
      "source": [
        "importing minmax scaler from sklearn to normalization the data"
      ],
      "metadata": {
        "id": "GarxGo2oCTkZ"
      }
    },
    {
      "cell_type": "code",
      "source": [
        "from sklearn.preprocessing import MinMaxScaler"
      ],
      "metadata": {
        "id": "DG9iT33_DZcL"
      },
      "execution_count": 91,
      "outputs": []
    },
    {
      "cell_type": "markdown",
      "source": [
        "using minmax scaler in dataframe"
      ],
      "metadata": {
        "id": "voZUvCoCIkA-"
      }
    },
    {
      "cell_type": "code",
      "source": [
        "min_max_scaler = MinMaxScaler()\n",
        "data_min_max = min_max_scaler.fit_transform(df)\n"
      ],
      "metadata": {
        "id": "nyKp_LOLC1yh"
      },
      "execution_count": 92,
      "outputs": []
    },
    {
      "cell_type": "code",
      "source": [
        "print(data_min_max)"
      ],
      "metadata": {
        "id": "bRBBiBnjFTRG",
        "colab": {
          "base_uri": "https://localhost:8080/"
        },
        "outputId": "120f29bd-f106-48f4-f366-28f6ebd2dac3"
      },
      "execution_count": 93,
      "outputs": [
        {
          "output_type": "stream",
          "name": "stdout",
          "text": [
            "[[0.45289705 0.66666667 0.62       ... 0.         0.         1.        ]\n",
            " [0.49097041 0.         0.98       ... 0.         1.         0.        ]\n",
            " [0.57078273 0.33333333 0.34       ... 0.         1.         0.        ]\n",
            " ...\n",
            " [0.19347035 0.         0.5        ... 1.         1.         0.        ]\n",
            " [0.36812395 0.33333333 0.64       ... 0.         1.         0.        ]\n",
            " [0.17993206 0.66666667 0.8        ... 1.         0.         1.        ]]\n"
          ]
        }
      ]
    },
    {
      "cell_type": "markdown",
      "source": [
        "converting  the minmaxScaler data back to a DataFrame"
      ],
      "metadata": {
        "id": "ll3abD-7KzZK"
      }
    },
    {
      "cell_type": "code",
      "source": [
        "data_df = pd.DataFrame(data_min_max, columns=df.columns)"
      ],
      "metadata": {
        "id": "hZ1yLfc5E6Ym"
      },
      "execution_count": 94,
      "outputs": []
    },
    {
      "cell_type": "code",
      "source": [
        "data_df"
      ],
      "metadata": {
        "id": "p__peySjEwyc",
        "colab": {
          "base_uri": "https://localhost:8080/",
          "height": 441
        },
        "outputId": "227cc7e8-db05-4c96-c82c-45e03f1871ca"
      },
      "execution_count": 95,
      "outputs": [
        {
          "output_type": "execute_result",
          "data": {
            "text/plain": [
              "      Previous CTC  Previous job change  Graduation Marks  EXP (Month)  \\\n",
              "0         0.452897             0.666667              0.62     0.021739   \n",
              "1         0.490970             0.000000              0.98     0.000000   \n",
              "2         0.570783             0.333333              0.34     0.217391   \n",
              "3         0.293737             0.333333              0.92     0.326087   \n",
              "4         0.510471             1.000000              0.78     0.304348   \n",
              "...            ...                  ...               ...          ...   \n",
              "1584      0.593705             0.666667              0.18     0.913043   \n",
              "1585      0.639036             0.000000              0.18     0.130435   \n",
              "1586      0.193470             0.000000              0.50     0.021739   \n",
              "1587      0.368124             0.333333              0.64     0.239130   \n",
              "1588      0.179932             0.666667              0.80     0.000000   \n",
              "\n",
              "           CTC  College_1  College_2  College_3  City_0  City_1  \\\n",
              "0     0.261181        0.0        1.0        0.0     1.0     0.0   \n",
              "1     0.212873        0.0        1.0        0.0     1.0     0.0   \n",
              "2     0.337284        1.0        0.0        0.0     1.0     0.0   \n",
              "3     0.412975        1.0        0.0        0.0     1.0     0.0   \n",
              "4     0.296289        0.0        0.0        1.0     1.0     0.0   \n",
              "...        ...        ...        ...        ...     ...     ...   \n",
              "1584  0.344665        0.0        0.0        1.0     0.0     1.0   \n",
              "1585  0.218711        0.0        0.0        1.0     1.0     0.0   \n",
              "1586  0.243845        0.0        0.0        1.0     0.0     1.0   \n",
              "1587  0.289414        0.0        0.0        1.0     1.0     0.0   \n",
              "1588  0.242000        0.0        1.0        0.0     0.0     1.0   \n",
              "\n",
              "      Role_Executive  Role_Manager  \n",
              "0                0.0           1.0  \n",
              "1                1.0           0.0  \n",
              "2                1.0           0.0  \n",
              "3                1.0           0.0  \n",
              "4                1.0           0.0  \n",
              "...              ...           ...  \n",
              "1584             1.0           0.0  \n",
              "1585             1.0           0.0  \n",
              "1586             1.0           0.0  \n",
              "1587             1.0           0.0  \n",
              "1588             0.0           1.0  \n",
              "\n",
              "[1589 rows x 12 columns]"
            ],
            "text/html": [
              "\n",
              "  <div id=\"df-f0d84cc3-c687-4f0d-a092-8ea7c644eba7\" class=\"colab-df-container\">\n",
              "    <div>\n",
              "<style scoped>\n",
              "    .dataframe tbody tr th:only-of-type {\n",
              "        vertical-align: middle;\n",
              "    }\n",
              "\n",
              "    .dataframe tbody tr th {\n",
              "        vertical-align: top;\n",
              "    }\n",
              "\n",
              "    .dataframe thead th {\n",
              "        text-align: right;\n",
              "    }\n",
              "</style>\n",
              "<table border=\"1\" class=\"dataframe\">\n",
              "  <thead>\n",
              "    <tr style=\"text-align: right;\">\n",
              "      <th></th>\n",
              "      <th>Previous CTC</th>\n",
              "      <th>Previous job change</th>\n",
              "      <th>Graduation Marks</th>\n",
              "      <th>EXP (Month)</th>\n",
              "      <th>CTC</th>\n",
              "      <th>College_1</th>\n",
              "      <th>College_2</th>\n",
              "      <th>College_3</th>\n",
              "      <th>City_0</th>\n",
              "      <th>City_1</th>\n",
              "      <th>Role_Executive</th>\n",
              "      <th>Role_Manager</th>\n",
              "    </tr>\n",
              "  </thead>\n",
              "  <tbody>\n",
              "    <tr>\n",
              "      <th>0</th>\n",
              "      <td>0.452897</td>\n",
              "      <td>0.666667</td>\n",
              "      <td>0.62</td>\n",
              "      <td>0.021739</td>\n",
              "      <td>0.261181</td>\n",
              "      <td>0.0</td>\n",
              "      <td>1.0</td>\n",
              "      <td>0.0</td>\n",
              "      <td>1.0</td>\n",
              "      <td>0.0</td>\n",
              "      <td>0.0</td>\n",
              "      <td>1.0</td>\n",
              "    </tr>\n",
              "    <tr>\n",
              "      <th>1</th>\n",
              "      <td>0.490970</td>\n",
              "      <td>0.000000</td>\n",
              "      <td>0.98</td>\n",
              "      <td>0.000000</td>\n",
              "      <td>0.212873</td>\n",
              "      <td>0.0</td>\n",
              "      <td>1.0</td>\n",
              "      <td>0.0</td>\n",
              "      <td>1.0</td>\n",
              "      <td>0.0</td>\n",
              "      <td>1.0</td>\n",
              "      <td>0.0</td>\n",
              "    </tr>\n",
              "    <tr>\n",
              "      <th>2</th>\n",
              "      <td>0.570783</td>\n",
              "      <td>0.333333</td>\n",
              "      <td>0.34</td>\n",
              "      <td>0.217391</td>\n",
              "      <td>0.337284</td>\n",
              "      <td>1.0</td>\n",
              "      <td>0.0</td>\n",
              "      <td>0.0</td>\n",
              "      <td>1.0</td>\n",
              "      <td>0.0</td>\n",
              "      <td>1.0</td>\n",
              "      <td>0.0</td>\n",
              "    </tr>\n",
              "    <tr>\n",
              "      <th>3</th>\n",
              "      <td>0.293737</td>\n",
              "      <td>0.333333</td>\n",
              "      <td>0.92</td>\n",
              "      <td>0.326087</td>\n",
              "      <td>0.412975</td>\n",
              "      <td>1.0</td>\n",
              "      <td>0.0</td>\n",
              "      <td>0.0</td>\n",
              "      <td>1.0</td>\n",
              "      <td>0.0</td>\n",
              "      <td>1.0</td>\n",
              "      <td>0.0</td>\n",
              "    </tr>\n",
              "    <tr>\n",
              "      <th>4</th>\n",
              "      <td>0.510471</td>\n",
              "      <td>1.000000</td>\n",
              "      <td>0.78</td>\n",
              "      <td>0.304348</td>\n",
              "      <td>0.296289</td>\n",
              "      <td>0.0</td>\n",
              "      <td>0.0</td>\n",
              "      <td>1.0</td>\n",
              "      <td>1.0</td>\n",
              "      <td>0.0</td>\n",
              "      <td>1.0</td>\n",
              "      <td>0.0</td>\n",
              "    </tr>\n",
              "    <tr>\n",
              "      <th>...</th>\n",
              "      <td>...</td>\n",
              "      <td>...</td>\n",
              "      <td>...</td>\n",
              "      <td>...</td>\n",
              "      <td>...</td>\n",
              "      <td>...</td>\n",
              "      <td>...</td>\n",
              "      <td>...</td>\n",
              "      <td>...</td>\n",
              "      <td>...</td>\n",
              "      <td>...</td>\n",
              "      <td>...</td>\n",
              "    </tr>\n",
              "    <tr>\n",
              "      <th>1584</th>\n",
              "      <td>0.593705</td>\n",
              "      <td>0.666667</td>\n",
              "      <td>0.18</td>\n",
              "      <td>0.913043</td>\n",
              "      <td>0.344665</td>\n",
              "      <td>0.0</td>\n",
              "      <td>0.0</td>\n",
              "      <td>1.0</td>\n",
              "      <td>0.0</td>\n",
              "      <td>1.0</td>\n",
              "      <td>1.0</td>\n",
              "      <td>0.0</td>\n",
              "    </tr>\n",
              "    <tr>\n",
              "      <th>1585</th>\n",
              "      <td>0.639036</td>\n",
              "      <td>0.000000</td>\n",
              "      <td>0.18</td>\n",
              "      <td>0.130435</td>\n",
              "      <td>0.218711</td>\n",
              "      <td>0.0</td>\n",
              "      <td>0.0</td>\n",
              "      <td>1.0</td>\n",
              "      <td>1.0</td>\n",
              "      <td>0.0</td>\n",
              "      <td>1.0</td>\n",
              "      <td>0.0</td>\n",
              "    </tr>\n",
              "    <tr>\n",
              "      <th>1586</th>\n",
              "      <td>0.193470</td>\n",
              "      <td>0.000000</td>\n",
              "      <td>0.50</td>\n",
              "      <td>0.021739</td>\n",
              "      <td>0.243845</td>\n",
              "      <td>0.0</td>\n",
              "      <td>0.0</td>\n",
              "      <td>1.0</td>\n",
              "      <td>0.0</td>\n",
              "      <td>1.0</td>\n",
              "      <td>1.0</td>\n",
              "      <td>0.0</td>\n",
              "    </tr>\n",
              "    <tr>\n",
              "      <th>1587</th>\n",
              "      <td>0.368124</td>\n",
              "      <td>0.333333</td>\n",
              "      <td>0.64</td>\n",
              "      <td>0.239130</td>\n",
              "      <td>0.289414</td>\n",
              "      <td>0.0</td>\n",
              "      <td>0.0</td>\n",
              "      <td>1.0</td>\n",
              "      <td>1.0</td>\n",
              "      <td>0.0</td>\n",
              "      <td>1.0</td>\n",
              "      <td>0.0</td>\n",
              "    </tr>\n",
              "    <tr>\n",
              "      <th>1588</th>\n",
              "      <td>0.179932</td>\n",
              "      <td>0.666667</td>\n",
              "      <td>0.80</td>\n",
              "      <td>0.000000</td>\n",
              "      <td>0.242000</td>\n",
              "      <td>0.0</td>\n",
              "      <td>1.0</td>\n",
              "      <td>0.0</td>\n",
              "      <td>0.0</td>\n",
              "      <td>1.0</td>\n",
              "      <td>0.0</td>\n",
              "      <td>1.0</td>\n",
              "    </tr>\n",
              "  </tbody>\n",
              "</table>\n",
              "<p>1589 rows × 12 columns</p>\n",
              "</div>\n",
              "    <div class=\"colab-df-buttons\">\n",
              "\n",
              "  <div class=\"colab-df-container\">\n",
              "    <button class=\"colab-df-convert\" onclick=\"convertToInteractive('df-f0d84cc3-c687-4f0d-a092-8ea7c644eba7')\"\n",
              "            title=\"Convert this dataframe to an interactive table.\"\n",
              "            style=\"display:none;\">\n",
              "\n",
              "  <svg xmlns=\"http://www.w3.org/2000/svg\" height=\"24px\" viewBox=\"0 -960 960 960\">\n",
              "    <path d=\"M120-120v-720h720v720H120Zm60-500h600v-160H180v160Zm220 220h160v-160H400v160Zm0 220h160v-160H400v160ZM180-400h160v-160H180v160Zm440 0h160v-160H620v160ZM180-180h160v-160H180v160Zm440 0h160v-160H620v160Z\"/>\n",
              "  </svg>\n",
              "    </button>\n",
              "\n",
              "  <style>\n",
              "    .colab-df-container {\n",
              "      display:flex;\n",
              "      gap: 12px;\n",
              "    }\n",
              "\n",
              "    .colab-df-convert {\n",
              "      background-color: #E8F0FE;\n",
              "      border: none;\n",
              "      border-radius: 50%;\n",
              "      cursor: pointer;\n",
              "      display: none;\n",
              "      fill: #1967D2;\n",
              "      height: 32px;\n",
              "      padding: 0 0 0 0;\n",
              "      width: 32px;\n",
              "    }\n",
              "\n",
              "    .colab-df-convert:hover {\n",
              "      background-color: #E2EBFA;\n",
              "      box-shadow: 0px 1px 2px rgba(60, 64, 67, 0.3), 0px 1px 3px 1px rgba(60, 64, 67, 0.15);\n",
              "      fill: #174EA6;\n",
              "    }\n",
              "\n",
              "    .colab-df-buttons div {\n",
              "      margin-bottom: 4px;\n",
              "    }\n",
              "\n",
              "    [theme=dark] .colab-df-convert {\n",
              "      background-color: #3B4455;\n",
              "      fill: #D2E3FC;\n",
              "    }\n",
              "\n",
              "    [theme=dark] .colab-df-convert:hover {\n",
              "      background-color: #434B5C;\n",
              "      box-shadow: 0px 1px 3px 1px rgba(0, 0, 0, 0.15);\n",
              "      filter: drop-shadow(0px 1px 2px rgba(0, 0, 0, 0.3));\n",
              "      fill: #FFFFFF;\n",
              "    }\n",
              "  </style>\n",
              "\n",
              "    <script>\n",
              "      const buttonEl =\n",
              "        document.querySelector('#df-f0d84cc3-c687-4f0d-a092-8ea7c644eba7 button.colab-df-convert');\n",
              "      buttonEl.style.display =\n",
              "        google.colab.kernel.accessAllowed ? 'block' : 'none';\n",
              "\n",
              "      async function convertToInteractive(key) {\n",
              "        const element = document.querySelector('#df-f0d84cc3-c687-4f0d-a092-8ea7c644eba7');\n",
              "        const dataTable =\n",
              "          await google.colab.kernel.invokeFunction('convertToInteractive',\n",
              "                                                    [key], {});\n",
              "        if (!dataTable) return;\n",
              "\n",
              "        const docLinkHtml = 'Like what you see? Visit the ' +\n",
              "          '<a target=\"_blank\" href=https://colab.research.google.com/notebooks/data_table.ipynb>data table notebook</a>'\n",
              "          + ' to learn more about interactive tables.';\n",
              "        element.innerHTML = '';\n",
              "        dataTable['output_type'] = 'display_data';\n",
              "        await google.colab.output.renderOutput(dataTable, element);\n",
              "        const docLink = document.createElement('div');\n",
              "        docLink.innerHTML = docLinkHtml;\n",
              "        element.appendChild(docLink);\n",
              "      }\n",
              "    </script>\n",
              "  </div>\n",
              "\n",
              "\n",
              "<div id=\"df-3484e920-c17e-44dc-afd8-9e391fef7623\">\n",
              "  <button class=\"colab-df-quickchart\" onclick=\"quickchart('df-3484e920-c17e-44dc-afd8-9e391fef7623')\"\n",
              "            title=\"Suggest charts\"\n",
              "            style=\"display:none;\">\n",
              "\n",
              "<svg xmlns=\"http://www.w3.org/2000/svg\" height=\"24px\"viewBox=\"0 0 24 24\"\n",
              "     width=\"24px\">\n",
              "    <g>\n",
              "        <path d=\"M19 3H5c-1.1 0-2 .9-2 2v14c0 1.1.9 2 2 2h14c1.1 0 2-.9 2-2V5c0-1.1-.9-2-2-2zM9 17H7v-7h2v7zm4 0h-2V7h2v10zm4 0h-2v-4h2v4z\"/>\n",
              "    </g>\n",
              "</svg>\n",
              "  </button>\n",
              "\n",
              "<style>\n",
              "  .colab-df-quickchart {\n",
              "      --bg-color: #E8F0FE;\n",
              "      --fill-color: #1967D2;\n",
              "      --hover-bg-color: #E2EBFA;\n",
              "      --hover-fill-color: #174EA6;\n",
              "      --disabled-fill-color: #AAA;\n",
              "      --disabled-bg-color: #DDD;\n",
              "  }\n",
              "\n",
              "  [theme=dark] .colab-df-quickchart {\n",
              "      --bg-color: #3B4455;\n",
              "      --fill-color: #D2E3FC;\n",
              "      --hover-bg-color: #434B5C;\n",
              "      --hover-fill-color: #FFFFFF;\n",
              "      --disabled-bg-color: #3B4455;\n",
              "      --disabled-fill-color: #666;\n",
              "  }\n",
              "\n",
              "  .colab-df-quickchart {\n",
              "    background-color: var(--bg-color);\n",
              "    border: none;\n",
              "    border-radius: 50%;\n",
              "    cursor: pointer;\n",
              "    display: none;\n",
              "    fill: var(--fill-color);\n",
              "    height: 32px;\n",
              "    padding: 0;\n",
              "    width: 32px;\n",
              "  }\n",
              "\n",
              "  .colab-df-quickchart:hover {\n",
              "    background-color: var(--hover-bg-color);\n",
              "    box-shadow: 0 1px 2px rgba(60, 64, 67, 0.3), 0 1px 3px 1px rgba(60, 64, 67, 0.15);\n",
              "    fill: var(--button-hover-fill-color);\n",
              "  }\n",
              "\n",
              "  .colab-df-quickchart-complete:disabled,\n",
              "  .colab-df-quickchart-complete:disabled:hover {\n",
              "    background-color: var(--disabled-bg-color);\n",
              "    fill: var(--disabled-fill-color);\n",
              "    box-shadow: none;\n",
              "  }\n",
              "\n",
              "  .colab-df-spinner {\n",
              "    border: 2px solid var(--fill-color);\n",
              "    border-color: transparent;\n",
              "    border-bottom-color: var(--fill-color);\n",
              "    animation:\n",
              "      spin 1s steps(1) infinite;\n",
              "  }\n",
              "\n",
              "  @keyframes spin {\n",
              "    0% {\n",
              "      border-color: transparent;\n",
              "      border-bottom-color: var(--fill-color);\n",
              "      border-left-color: var(--fill-color);\n",
              "    }\n",
              "    20% {\n",
              "      border-color: transparent;\n",
              "      border-left-color: var(--fill-color);\n",
              "      border-top-color: var(--fill-color);\n",
              "    }\n",
              "    30% {\n",
              "      border-color: transparent;\n",
              "      border-left-color: var(--fill-color);\n",
              "      border-top-color: var(--fill-color);\n",
              "      border-right-color: var(--fill-color);\n",
              "    }\n",
              "    40% {\n",
              "      border-color: transparent;\n",
              "      border-right-color: var(--fill-color);\n",
              "      border-top-color: var(--fill-color);\n",
              "    }\n",
              "    60% {\n",
              "      border-color: transparent;\n",
              "      border-right-color: var(--fill-color);\n",
              "    }\n",
              "    80% {\n",
              "      border-color: transparent;\n",
              "      border-right-color: var(--fill-color);\n",
              "      border-bottom-color: var(--fill-color);\n",
              "    }\n",
              "    90% {\n",
              "      border-color: transparent;\n",
              "      border-bottom-color: var(--fill-color);\n",
              "    }\n",
              "  }\n",
              "</style>\n",
              "\n",
              "  <script>\n",
              "    async function quickchart(key) {\n",
              "      const quickchartButtonEl =\n",
              "        document.querySelector('#' + key + ' button');\n",
              "      quickchartButtonEl.disabled = true;  // To prevent multiple clicks.\n",
              "      quickchartButtonEl.classList.add('colab-df-spinner');\n",
              "      try {\n",
              "        const charts = await google.colab.kernel.invokeFunction(\n",
              "            'suggestCharts', [key], {});\n",
              "      } catch (error) {\n",
              "        console.error('Error during call to suggestCharts:', error);\n",
              "      }\n",
              "      quickchartButtonEl.classList.remove('colab-df-spinner');\n",
              "      quickchartButtonEl.classList.add('colab-df-quickchart-complete');\n",
              "    }\n",
              "    (() => {\n",
              "      let quickchartButtonEl =\n",
              "        document.querySelector('#df-3484e920-c17e-44dc-afd8-9e391fef7623 button');\n",
              "      quickchartButtonEl.style.display =\n",
              "        google.colab.kernel.accessAllowed ? 'block' : 'none';\n",
              "    })();\n",
              "  </script>\n",
              "</div>\n",
              "    </div>\n",
              "  </div>\n"
            ]
          },
          "metadata": {},
          "execution_count": 95
        }
      ]
    },
    {
      "cell_type": "markdown",
      "source": [
        "storing normalise data in original dataframe"
      ],
      "metadata": {
        "id": "BhN3wJ89K12c"
      }
    },
    {
      "cell_type": "code",
      "source": [
        "df = data_df"
      ],
      "metadata": {
        "id": "sqr6o4xIEVzF"
      },
      "execution_count": 96,
      "outputs": []
    },
    {
      "cell_type": "code",
      "source": [
        "df.info()"
      ],
      "metadata": {
        "id": "dxa8UhEvES9g",
        "colab": {
          "base_uri": "https://localhost:8080/"
        },
        "outputId": "11e49966-d32b-4d58-a31d-922747d2ebcc"
      },
      "execution_count": 97,
      "outputs": [
        {
          "output_type": "stream",
          "name": "stdout",
          "text": [
            "<class 'pandas.core.frame.DataFrame'>\n",
            "RangeIndex: 1589 entries, 0 to 1588\n",
            "Data columns (total 12 columns):\n",
            " #   Column               Non-Null Count  Dtype  \n",
            "---  ------               --------------  -----  \n",
            " 0   Previous CTC         1589 non-null   float64\n",
            " 1   Previous job change  1589 non-null   float64\n",
            " 2   Graduation Marks     1589 non-null   float64\n",
            " 3   EXP (Month)          1589 non-null   float64\n",
            " 4   CTC                  1589 non-null   float64\n",
            " 5   College_1            1589 non-null   float64\n",
            " 6   College_2            1589 non-null   float64\n",
            " 7   College_3            1589 non-null   float64\n",
            " 8   City_0               1589 non-null   float64\n",
            " 9   City_1               1589 non-null   float64\n",
            " 10  Role_Executive       1589 non-null   float64\n",
            " 11  Role_Manager         1589 non-null   float64\n",
            "dtypes: float64(12)\n",
            "memory usage: 149.1 KB\n"
          ]
        }
      ]
    },
    {
      "cell_type": "code",
      "source": [
        "sns.jointplot(x='Previous CTC', y= 'CTC', data=df)"
      ],
      "metadata": {
        "id": "sHKgnteeCrnr",
        "colab": {
          "base_uri": "https://localhost:8080/",
          "height": 624
        },
        "outputId": "d93e4906-bfde-414c-c13c-139e8b5a2390"
      },
      "execution_count": 98,
      "outputs": [
        {
          "output_type": "execute_result",
          "data": {
            "text/plain": [
              "<seaborn.axisgrid.JointGrid at 0x7b347a2c4130>"
            ]
          },
          "metadata": {},
          "execution_count": 98
        },
        {
          "output_type": "display_data",
          "data": {
            "text/plain": [
              "<Figure size 600x600 with 3 Axes>"
            ],
            "image/png": "[encoded data removed]"
          },
          "metadata": {}
        }
      ]
    },
    {
      "cell_type": "markdown",
      "source": [
        "importing necessary library for linear regression model"
      ],
      "metadata": {
        "id": "zmM8hH01VnoW"
      }
    },
    {
      "cell_type": "code",
      "source": [
        "from sklearn.linear_model import LinearRegression\n",
        "from sklearn.metrics import mean_squared_error"
      ],
      "metadata": {
        "id": "X93Euh5DAD2K"
      },
      "execution_count": 99,
      "outputs": []
    },
    {
      "cell_type": "code",
      "source": [
        "X = df[['Previous CTC']]"
      ],
      "metadata": {
        "id": "e4WUr4w19VIA"
      },
      "execution_count": 100,
      "outputs": []
    },
    {
      "cell_type": "code",
      "source": [
        "Y = df['CTC']"
      ],
      "metadata": {
        "id": "tbhNe01u7Wh0"
      },
      "execution_count": 101,
      "outputs": []
    },
    {
      "cell_type": "markdown",
      "source": [
        "training the data for simple LinearRegression for checking"
      ],
      "metadata": {
        "id": "sYBttnlDVpx5"
      }
    },
    {
      "cell_type": "code",
      "source": [
        "lm2 = LinearRegression()\n",
        "lm2.fit(X,Y)"
      ],
      "metadata": {
        "id": "OJvF6BRY7US5",
        "colab": {
          "base_uri": "https://localhost:8080/",
          "height": 74
        },
        "outputId": "58893d65-9f8d-4006-e643-77429960ee5c"
      },
      "execution_count": 102,
      "outputs": [
        {
          "output_type": "execute_result",
          "data": {
            "text/plain": [
              "LinearRegression()"
            ],
            "text/html": [
              "<style>#sk-container-id-7 {color: black;background-color: white;}#sk-container-id-7 pre{padding: 0;}#sk-container-id-7 div.sk-toggleable {background-color: white;}#sk-container-id-7 label.sk-toggleable__label {cursor: pointer;display: block;width: 100%;margin-bottom: 0;padding: 0.3em;box-sizing: border-box;text-align: center;}#sk-container-id-7 label.sk-toggleable__label-arrow:before {content: \"▸\";float: left;margin-right: 0.25em;color: #696969;}#sk-container-id-7 label.sk-toggleable__label-arrow:hover:before {color: black;}#sk-container-id-7 div.sk-estimator:hover label.sk-toggleable__label-arrow:before {color: black;}#sk-container-id-7 div.sk-toggleable__content {max-height: 0;max-width: 0;overflow: hidden;text-align: left;background-color: #f0f8ff;}#sk-container-id-7 div.sk-toggleable__content pre {margin: 0.2em;color: black;border-radius: 0.25em;background-color: #f0f8ff;}#sk-container-id-7 input.sk-toggleable__control:checked~div.sk-toggleable__content {max-height: 200px;max-width: 100%;overflow: auto;}#sk-container-id-7 input.sk-toggleable__control:checked~label.sk-toggleable__label-arrow:before {content: \"▾\";}#sk-container-id-7 div.sk-estimator input.sk-toggleable__control:checked~label.sk-toggleable__label {background-color: #d4ebff;}#sk-container-id-7 div.sk-label input.sk-toggleable__control:checked~label.sk-toggleable__label {background-color: #d4ebff;}#sk-container-id-7 input.sk-hidden--visually {border: 0;clip: rect(1px 1px 1px 1px);clip: rect(1px, 1px, 1px, 1px);height: 1px;margin: -1px;overflow: hidden;padding: 0;position: absolute;width: 1px;}#sk-container-id-7 div.sk-estimator {font-family: monospace;background-color: #f0f8ff;border: 1px dotted black;border-radius: 0.25em;box-sizing: border-box;margin-bottom: 0.5em;}#sk-container-id-7 div.sk-estimator:hover {background-color: #d4ebff;}#sk-container-id-7 div.sk-parallel-item::after {content: \"\";width: 100%;border-bottom: 1px solid gray;flex-grow: 1;}#sk-container-id-7 div.sk-label:hover label.sk-toggleable__label {background-color: #d4ebff;}#sk-container-id-7 div.sk-serial::before {content: \"\";position: absolute;border-left: 1px solid gray;box-sizing: border-box;top: 0;bottom: 0;left: 50%;z-index: 0;}#sk-container-id-7 div.sk-serial {display: flex;flex-direction: column;align-items: center;background-color: white;padding-right: 0.2em;padding-left: 0.2em;position: relative;}#sk-container-id-7 div.sk-item {position: relative;z-index: 1;}#sk-container-id-7 div.sk-parallel {display: flex;align-items: stretch;justify-content: center;background-color: white;position: relative;}#sk-container-id-7 div.sk-item::before, #sk-container-id-7 div.sk-parallel-item::before {content: \"\";position: absolute;border-left: 1px solid gray;box-sizing: border-box;top: 0;bottom: 0;left: 50%;z-index: -1;}#sk-container-id-7 div.sk-parallel-item {display: flex;flex-direction: column;z-index: 1;position: relative;background-color: white;}#sk-container-id-7 div.sk-parallel-item:first-child::after {align-self: flex-end;width: 50%;}#sk-container-id-7 div.sk-parallel-item:last-child::after {align-self: flex-start;width: 50%;}#sk-container-id-7 div.sk-parallel-item:only-child::after {width: 0;}#sk-container-id-7 div.sk-dashed-wrapped {border: 1px dashed gray;margin: 0 0.4em 0.5em 0.4em;box-sizing: border-box;padding-bottom: 0.4em;background-color: white;}#sk-container-id-7 div.sk-label label {font-family: monospace;font-weight: bold;display: inline-block;line-height: 1.2em;}#sk-container-id-7 div.sk-label-container {text-align: center;}#sk-container-id-7 div.sk-container {/* jupyter's `normalize.less` sets `[hidden] { display: none; }` but bootstrap.min.css set `[hidden] { display: none !important; }` so we also need the `!important` here to be able to override the default hidden behavior on the sphinx rendered scikit-learn.org. See: https://github.com/scikit-learn/scikit-learn/issues/21755 */display: inline-block !important;position: relative;}#sk-container-id-7 div.sk-text-repr-fallback {display: none;}</style><div id=\"sk-container-id-7\" class=\"sk-top-container\"><div class=\"sk-text-repr-fallback\"><pre>LinearRegression()</pre><b>In a Jupyter environment, please rerun this cell to show the HTML representation or trust the notebook. <br />On GitHub, the HTML representation is unable to render, please try loading this page with nbviewer.org.</b></div><div class=\"sk-container\" hidden><div class=\"sk-item\"><div class=\"sk-estimator sk-toggleable\"><input class=\"sk-toggleable__control sk-hidden--visually\" id=\"sk-estimator-id-9\" type=\"checkbox\" checked><label for=\"sk-estimator-id-9\" class=\"sk-toggleable__label sk-toggleable__label-arrow\">LinearRegression</label><div class=\"sk-toggleable__content\"><pre>LinearRegression()</pre></div></div></div></div></div>"
            ]
          },
          "metadata": {},
          "execution_count": 102
        }
      ]
    },
    {
      "cell_type": "markdown",
      "source": [
        "checking"
      ],
      "metadata": {
        "id": "bEAQ-9_JVrYu"
      }
    },
    {
      "cell_type": "code",
      "source": [
        "print(lm2.intercept_, lm2.coef_)"
      ],
      "metadata": {
        "id": "DERaB4O_7Q_s",
        "colab": {
          "base_uri": "https://localhost:8080/"
        },
        "outputId": "e144d709-0f0f-425e-c371-beefe9df1c60"
      },
      "execution_count": 103,
      "outputs": [
        {
          "output_type": "stream",
          "name": "stdout",
          "text": [
            "0.1888116241137944 [0.28365039]\n"
          ]
        }
      ]
    },
    {
      "cell_type": "code",
      "source": [
        "sns.jointplot(x=df['Previous CTC'], y = df['CTC'], data=df, kind='reg')"
      ],
      "metadata": {
        "id": "GxYRES1U7NKS",
        "colab": {
          "base_uri": "https://localhost:8080/",
          "height": 624
        },
        "outputId": "c0299041-d319-4fcc-a703-f0414cae7d3e"
      },
      "execution_count": 104,
      "outputs": [
        {
          "output_type": "execute_result",
          "data": {
            "text/plain": [
              "<seaborn.axisgrid.JointGrid at 0x7b347a562530>"
            ]
          },
          "metadata": {},
          "execution_count": 104
        },
        {
          "output_type": "display_data",
          "data": {
            "text/plain": [
              "<Figure size 600x600 with 3 Axes>"
            ],
            "image/png": "[encoded data removed]"
          },
          "metadata": {}
        }
      ]
    },
    {
      "cell_type": "markdown",
      "source": [
        "Import Train_Test_Split from Sklearn"
      ],
      "metadata": {
        "id": "ZDSITJJ6WOb2"
      }
    },
    {
      "cell_type": "code",
      "source": [
        "from sklearn.model_selection import train_test_split"
      ],
      "metadata": {
        "id": "oXLFN2Ar7KnT"
      },
      "execution_count": 105,
      "outputs": []
    },
    {
      "cell_type": "markdown",
      "source": [
        "storing columns in other variables for train and test data"
      ],
      "metadata": {
        "id": "g3YsBh9rwtD4"
      }
    },
    {
      "cell_type": "code",
      "source": [
        "X_multi = df.drop('CTC', axis=1)\n"
      ],
      "metadata": {
        "id": "hfJxeoQU7H5s"
      },
      "execution_count": 106,
      "outputs": []
    },
    {
      "cell_type": "code",
      "source": [
        "y_multi = df['CTC']"
      ],
      "metadata": {
        "id": "L5uk2XbR5b2-"
      },
      "execution_count": 107,
      "outputs": []
    },
    {
      "cell_type": "markdown",
      "source": [
        "Dividing Data in Train and Test for models"
      ],
      "metadata": {
        "id": "IEd6cmlwx5jZ"
      }
    },
    {
      "cell_type": "code",
      "source": [
        "X_train, X_test, y_train, y_test = train_test_split(X_multi,y_multi, test_size = 0.2, random_state =0)"
      ],
      "metadata": {
        "id": "_U3DEC7h1HE0"
      },
      "execution_count": 108,
      "outputs": []
    },
    {
      "cell_type": "markdown",
      "source": [
        "Checking divided Data and there distribution"
      ],
      "metadata": {
        "id": "84XKLF3zx6xX"
      }
    },
    {
      "cell_type": "code",
      "source": [
        "print(X_train.shape,X_test.shape,y_train.shape,y_test.shape)"
      ],
      "metadata": {
        "id": "kj0I4yt9ysMX",
        "colab": {
          "base_uri": "https://localhost:8080/"
        },
        "outputId": "6c0f7e52-f774-4e76-9f1c-3a7f69b46a7d"
      },
      "execution_count": 109,
      "outputs": [
        {
          "output_type": "stream",
          "name": "stdout",
          "text": [
            "(1271, 11) (318, 11) (1271,) (318,)\n"
          ]
        }
      ]
    },
    {
      "cell_type": "markdown",
      "source": [
        "Training LinearRegression model with train DataSet"
      ],
      "metadata": {
        "id": "mBhXXJWKx7w0"
      }
    },
    {
      "cell_type": "code",
      "source": [
        "Lmodel_a = LinearRegression()"
      ],
      "metadata": {
        "id": "XFt2pQPuyGSo"
      },
      "execution_count": 110,
      "outputs": []
    },
    {
      "cell_type": "code",
      "source": [
        "Lmodel_a.fit(X_train,y_train)"
      ],
      "metadata": {
        "id": "yIM7raxayA_3",
        "colab": {
          "base_uri": "https://localhost:8080/",
          "height": 74
        },
        "outputId": "c8677991-82f2-4ff6-d462-65fe82274a35"
      },
      "execution_count": 111,
      "outputs": [
        {
          "output_type": "execute_result",
          "data": {
            "text/plain": [
              "LinearRegression()"
            ],
            "text/html": [
              "<style>#sk-container-id-8 {color: black;background-color: white;}#sk-container-id-8 pre{padding: 0;}#sk-container-id-8 div.sk-toggleable {background-color: white;}#sk-container-id-8 label.sk-toggleable__label {cursor: pointer;display: block;width: 100%;margin-bottom: 0;padding: 0.3em;box-sizing: border-box;text-align: center;}#sk-container-id-8 label.sk-toggleable__label-arrow:before {content: \"▸\";float: left;margin-right: 0.25em;color: #696969;}#sk-container-id-8 label.sk-toggleable__label-arrow:hover:before {color: black;}#sk-container-id-8 div.sk-estimator:hover label.sk-toggleable__label-arrow:before {color: black;}#sk-container-id-8 div.sk-toggleable__content {max-height: 0;max-width: 0;overflow: hidden;text-align: left;background-color: #f0f8ff;}#sk-container-id-8 div.sk-toggleable__content pre {margin: 0.2em;color: black;border-radius: 0.25em;background-color: #f0f8ff;}#sk-container-id-8 input.sk-toggleable__control:checked~div.sk-toggleable__content {max-height: 200px;max-width: 100%;overflow: auto;}#sk-container-id-8 input.sk-toggleable__control:checked~label.sk-toggleable__label-arrow:before {content: \"▾\";}#sk-container-id-8 div.sk-estimator input.sk-toggleable__control:checked~label.sk-toggleable__label {background-color: #d4ebff;}#sk-container-id-8 div.sk-label input.sk-toggleable__control:checked~label.sk-toggleable__label {background-color: #d4ebff;}#sk-container-id-8 input.sk-hidden--visually {border: 0;clip: rect(1px 1px 1px 1px);clip: rect(1px, 1px, 1px, 1px);height: 1px;margin: -1px;overflow: hidden;padding: 0;position: absolute;width: 1px;}#sk-container-id-8 div.sk-estimator {font-family: monospace;background-color: #f0f8ff;border: 1px dotted black;border-radius: 0.25em;box-sizing: border-box;margin-bottom: 0.5em;}#sk-container-id-8 div.sk-estimator:hover {background-color: #d4ebff;}#sk-container-id-8 div.sk-parallel-item::after {content: \"\";width: 100%;border-bottom: 1px solid gray;flex-grow: 1;}#sk-container-id-8 div.sk-label:hover label.sk-toggleable__label {background-color: #d4ebff;}#sk-container-id-8 div.sk-serial::before {content: \"\";position: absolute;border-left: 1px solid gray;box-sizing: border-box;top: 0;bottom: 0;left: 50%;z-index: 0;}#sk-container-id-8 div.sk-serial {display: flex;flex-direction: column;align-items: center;background-color: white;padding-right: 0.2em;padding-left: 0.2em;position: relative;}#sk-container-id-8 div.sk-item {position: relative;z-index: 1;}#sk-container-id-8 div.sk-parallel {display: flex;align-items: stretch;justify-content: center;background-color: white;position: relative;}#sk-container-id-8 div.sk-item::before, #sk-container-id-8 div.sk-parallel-item::before {content: \"\";position: absolute;border-left: 1px solid gray;box-sizing: border-box;top: 0;bottom: 0;left: 50%;z-index: -1;}#sk-container-id-8 div.sk-parallel-item {display: flex;flex-direction: column;z-index: 1;position: relative;background-color: white;}#sk-container-id-8 div.sk-parallel-item:first-child::after {align-self: flex-end;width: 50%;}#sk-container-id-8 div.sk-parallel-item:last-child::after {align-self: flex-start;width: 50%;}#sk-container-id-8 div.sk-parallel-item:only-child::after {width: 0;}#sk-container-id-8 div.sk-dashed-wrapped {border: 1px dashed gray;margin: 0 0.4em 0.5em 0.4em;box-sizing: border-box;padding-bottom: 0.4em;background-color: white;}#sk-container-id-8 div.sk-label label {font-family: monospace;font-weight: bold;display: inline-block;line-height: 1.2em;}#sk-container-id-8 div.sk-label-container {text-align: center;}#sk-container-id-8 div.sk-container {/* jupyter's `normalize.less` sets `[hidden] { display: none; }` but bootstrap.min.css set `[hidden] { display: none !important; }` so we also need the `!important` here to be able to override the default hidden behavior on the sphinx rendered scikit-learn.org. See: https://github.com/scikit-learn/scikit-learn/issues/21755 */display: inline-block !important;position: relative;}#sk-container-id-8 div.sk-text-repr-fallback {display: none;}</style><div id=\"sk-container-id-8\" class=\"sk-top-container\"><div class=\"sk-text-repr-fallback\"><pre>LinearRegression()</pre><b>In a Jupyter environment, please rerun this cell to show the HTML representation or trust the notebook. <br />On GitHub, the HTML representation is unable to render, please try loading this page with nbviewer.org.</b></div><div class=\"sk-container\" hidden><div class=\"sk-item\"><div class=\"sk-estimator sk-toggleable\"><input class=\"sk-toggleable__control sk-hidden--visually\" id=\"sk-estimator-id-10\" type=\"checkbox\" checked><label for=\"sk-estimator-id-10\" class=\"sk-toggleable__label sk-toggleable__label-arrow\">LinearRegression</label><div class=\"sk-toggleable__content\"><pre>LinearRegression()</pre></div></div></div></div></div>"
            ]
          },
          "metadata": {},
          "execution_count": 111
        }
      ]
    },
    {
      "cell_type": "markdown",
      "source": [
        "Predicting Linearn Regression with test DataSet and train DataSet"
      ],
      "metadata": {
        "id": "6DVzjm_MzLrn"
      }
    },
    {
      "cell_type": "code",
      "source": [
        "y_test_a = Lmodel_a.predict(X_test)"
      ],
      "metadata": {
        "id": "gZyAgTmdx460"
      },
      "execution_count": 112,
      "outputs": []
    },
    {
      "cell_type": "code",
      "source": [
        "y_train_a = Lmodel_a.predict(X_train)"
      ],
      "metadata": {
        "id": "VibfcMw0xlir"
      },
      "execution_count": 113,
      "outputs": []
    },
    {
      "cell_type": "markdown",
      "source": [
        "Importing R-Squared from sklearn"
      ],
      "metadata": {
        "id": "9anwy1U6zMrS"
      }
    },
    {
      "cell_type": "code",
      "source": [
        "from sklearn.metrics import r2_score"
      ],
      "metadata": {
        "id": "PHrNCGKHxMC1"
      },
      "execution_count": 114,
      "outputs": []
    },
    {
      "cell_type": "markdown",
      "source": [
        "Test-Set R-Squared value\n",
        "\n"
      ],
      "metadata": {
        "id": "n4pbV_4Jzeq5"
      }
    },
    {
      "cell_type": "code",
      "source": [
        "r2_score(y_test,y_test_a)"
      ],
      "metadata": {
        "id": "OsFUNp1BxIs_",
        "colab": {
          "base_uri": "https://localhost:8080/"
        },
        "outputId": "2cab3237-cdcf-48ef-cca4-83a1baa26359"
      },
      "execution_count": 115,
      "outputs": [
        {
          "output_type": "execute_result",
          "data": {
            "text/plain": [
              "0.5366674761766203"
            ]
          },
          "metadata": {},
          "execution_count": 115
        }
      ]
    },
    {
      "cell_type": "markdown",
      "source": [
        "Training-Set R-Squared value"
      ],
      "metadata": {
        "id": "MwiVfx0q1mNj"
      }
    },
    {
      "cell_type": "code",
      "source": [
        "r2_score(y_train, y_train_a)"
      ],
      "metadata": {
        "colab": {
          "base_uri": "https://localhost:8080/"
        },
        "id": "GlJJbsCj1fVY",
        "outputId": "9be3484f-8e88-4c15-92d6-22b8f36d497a"
      },
      "execution_count": 116,
      "outputs": [
        {
          "output_type": "execute_result",
          "data": {
            "text/plain": [
              "0.5335038205027318"
            ]
          },
          "metadata": {},
          "execution_count": 116
        }
      ]
    },
    {
      "cell_type": "code",
      "source": [
        "mse_ln = mean_squared_error(y_test,Lmodel_a.predict(X_test))"
      ],
      "metadata": {
        "id": "S8eFfFGzLCl6"
      },
      "execution_count": 117,
      "outputs": []
    },
    {
      "cell_type": "code",
      "source": [
        "mse_ln"
      ],
      "metadata": {
        "colab": {
          "base_uri": "https://localhost:8080/"
        },
        "id": "5C2x6NQUMBj6",
        "outputId": "2f256259-086e-460c-b70c-30404fc75111"
      },
      "execution_count": 118,
      "outputs": [
        {
          "output_type": "execute_result",
          "data": {
            "text/plain": [
              "0.013873205954323542"
            ]
          },
          "metadata": {},
          "execution_count": 118
        }
      ]
    },
    {
      "cell_type": "markdown",
      "source": [
        "Importing Cross validation score and Ridge"
      ],
      "metadata": {
        "id": "Qb1tgn7jIQDE"
      }
    },
    {
      "cell_type": "code",
      "source": [
        "from sklearn.model_selection import cross_val_score\n",
        "from sklearn.linear_model import Ridge"
      ],
      "metadata": {
        "id": "zUF5Ut0nwd86"
      },
      "execution_count": 119,
      "outputs": []
    },
    {
      "cell_type": "code",
      "source": [
        "ridge = Ridge()\n"
      ],
      "metadata": {
        "id": "JvVaAcidvVsQ"
      },
      "execution_count": 120,
      "outputs": []
    },
    {
      "cell_type": "markdown",
      "source": [
        "Setting Alpha value for Ridge model"
      ],
      "metadata": {
        "id": "EypzQlNTPP7X"
      }
    },
    {
      "cell_type": "code",
      "source": [
        "alpha = [0.01,0.02,0.03,0.04,0.001,0.05,1.0,5.0,10.0]"
      ],
      "metadata": {
        "id": "UgEdppCquTkx"
      },
      "execution_count": 121,
      "outputs": []
    },
    {
      "cell_type": "code",
      "source": [
        "X_ridge = X_train\n",
        "Y_ridge = y_train"
      ],
      "metadata": {
        "id": "1CftduYwtLV5"
      },
      "execution_count": 122,
      "outputs": []
    },
    {
      "cell_type": "markdown",
      "source": [
        "Running cross validation score for best alpha value"
      ],
      "metadata": {
        "id": "jDBY3768PRM9"
      }
    },
    {
      "cell_type": "code",
      "source": [
        "scores = cross_val_score(ridge, X_ridge, Y_ridge, cv=5, scoring='r2', verbose=1)\n"
      ],
      "metadata": {
        "id": "IuSqkX4ptDHf"
      },
      "execution_count": 123,
      "outputs": []
    },
    {
      "cell_type": "markdown",
      "source": [
        "Selecting best alpha value and storing in new varibale"
      ],
      "metadata": {
        "id": "QHBSG5TePSNI"
      }
    },
    {
      "cell_type": "code",
      "source": [
        "best_alpha = alpha[scores.argmax()]"
      ],
      "metadata": {
        "id": "AMCoUzOrM8qG"
      },
      "execution_count": 124,
      "outputs": []
    },
    {
      "cell_type": "code",
      "source": [
        "print(\"Cross-validated R-squared scores:\", scores)\n",
        "print(\"Best alpha:\", best_alpha)"
      ],
      "metadata": {
        "colab": {
          "base_uri": "https://localhost:8080/"
        },
        "id": "_zCeRdmENA12",
        "outputId": "170bed8f-df16-41b6-f780-ba7e156571db"
      },
      "execution_count": 125,
      "outputs": [
        {
          "output_type": "stream",
          "name": "stdout",
          "text": [
            "Cross-validated R-squared scores: [0.55337302 0.52895281 0.49965691 0.51515221 0.53030126]\n",
            "Best alpha: 0.01\n"
          ]
        }
      ]
    },
    {
      "cell_type": "markdown",
      "source": [
        "Training train Dataset in Ridge model"
      ],
      "metadata": {
        "id": "PyYcNUVXPTqL"
      }
    },
    {
      "cell_type": "code",
      "source": [
        "ridge = Ridge(alpha=0.01)\n",
        "ridge.fit(X_train, y_train)"
      ],
      "metadata": {
        "colab": {
          "base_uri": "https://localhost:8080/",
          "height": 74
        },
        "id": "BY6Qdr0RNFyV",
        "outputId": "ea28a908-3cdc-4b19-a8eb-7e30e6811f88"
      },
      "execution_count": 126,
      "outputs": [
        {
          "output_type": "execute_result",
          "data": {
            "text/plain": [
              "Ridge(alpha=0.01)"
            ],
            "text/html": [
              "<style>#sk-container-id-9 {color: black;background-color: white;}#sk-container-id-9 pre{padding: 0;}#sk-container-id-9 div.sk-toggleable {background-color: white;}#sk-container-id-9 label.sk-toggleable__label {cursor: pointer;display: block;width: 100%;margin-bottom: 0;padding: 0.3em;box-sizing: border-box;text-align: center;}#sk-container-id-9 label.sk-toggleable__label-arrow:before {content: \"▸\";float: left;margin-right: 0.25em;color: #696969;}#sk-container-id-9 label.sk-toggleable__label-arrow:hover:before {color: black;}#sk-container-id-9 div.sk-estimator:hover label.sk-toggleable__label-arrow:before {color: black;}#sk-container-id-9 div.sk-toggleable__content {max-height: 0;max-width: 0;overflow: hidden;text-align: left;background-color: #f0f8ff;}#sk-container-id-9 div.sk-toggleable__content pre {margin: 0.2em;color: black;border-radius: 0.25em;background-color: #f0f8ff;}#sk-container-id-9 input.sk-toggleable__control:checked~div.sk-toggleable__content {max-height: 200px;max-width: 100%;overflow: auto;}#sk-container-id-9 input.sk-toggleable__control:checked~label.sk-toggleable__label-arrow:before {content: \"▾\";}#sk-container-id-9 div.sk-estimator input.sk-toggleable__control:checked~label.sk-toggleable__label {background-color: #d4ebff;}#sk-container-id-9 div.sk-label input.sk-toggleable__control:checked~label.sk-toggleable__label {background-color: #d4ebff;}#sk-container-id-9 input.sk-hidden--visually {border: 0;clip: rect(1px 1px 1px 1px);clip: rect(1px, 1px, 1px, 1px);height: 1px;margin: -1px;overflow: hidden;padding: 0;position: absolute;width: 1px;}#sk-container-id-9 div.sk-estimator {font-family: monospace;background-color: #f0f8ff;border: 1px dotted black;border-radius: 0.25em;box-sizing: border-box;margin-bottom: 0.5em;}#sk-container-id-9 div.sk-estimator:hover {background-color: #d4ebff;}#sk-container-id-9 div.sk-parallel-item::after {content: \"\";width: 100%;border-bottom: 1px solid gray;flex-grow: 1;}#sk-container-id-9 div.sk-label:hover label.sk-toggleable__label {background-color: #d4ebff;}#sk-container-id-9 div.sk-serial::before {content: \"\";position: absolute;border-left: 1px solid gray;box-sizing: border-box;top: 0;bottom: 0;left: 50%;z-index: 0;}#sk-container-id-9 div.sk-serial {display: flex;flex-direction: column;align-items: center;background-color: white;padding-right: 0.2em;padding-left: 0.2em;position: relative;}#sk-container-id-9 div.sk-item {position: relative;z-index: 1;}#sk-container-id-9 div.sk-parallel {display: flex;align-items: stretch;justify-content: center;background-color: white;position: relative;}#sk-container-id-9 div.sk-item::before, #sk-container-id-9 div.sk-parallel-item::before {content: \"\";position: absolute;border-left: 1px solid gray;box-sizing: border-box;top: 0;bottom: 0;left: 50%;z-index: -1;}#sk-container-id-9 div.sk-parallel-item {display: flex;flex-direction: column;z-index: 1;position: relative;background-color: white;}#sk-container-id-9 div.sk-parallel-item:first-child::after {align-self: flex-end;width: 50%;}#sk-container-id-9 div.sk-parallel-item:last-child::after {align-self: flex-start;width: 50%;}#sk-container-id-9 div.sk-parallel-item:only-child::after {width: 0;}#sk-container-id-9 div.sk-dashed-wrapped {border: 1px dashed gray;margin: 0 0.4em 0.5em 0.4em;box-sizing: border-box;padding-bottom: 0.4em;background-color: white;}#sk-container-id-9 div.sk-label label {font-family: monospace;font-weight: bold;display: inline-block;line-height: 1.2em;}#sk-container-id-9 div.sk-label-container {text-align: center;}#sk-container-id-9 div.sk-container {/* jupyter's `normalize.less` sets `[hidden] { display: none; }` but bootstrap.min.css set `[hidden] { display: none !important; }` so we also need the `!important` here to be able to override the default hidden behavior on the sphinx rendered scikit-learn.org. See: https://github.com/scikit-learn/scikit-learn/issues/21755 */display: inline-block !important;position: relative;}#sk-container-id-9 div.sk-text-repr-fallback {display: none;}</style><div id=\"sk-container-id-9\" class=\"sk-top-container\"><div class=\"sk-text-repr-fallback\"><pre>Ridge(alpha=0.01)</pre><b>In a Jupyter environment, please rerun this cell to show the HTML representation or trust the notebook. <br />On GitHub, the HTML representation is unable to render, please try loading this page with nbviewer.org.</b></div><div class=\"sk-container\" hidden><div class=\"sk-item\"><div class=\"sk-estimator sk-toggleable\"><input class=\"sk-toggleable__control sk-hidden--visually\" id=\"sk-estimator-id-11\" type=\"checkbox\" checked><label for=\"sk-estimator-id-11\" class=\"sk-toggleable__label sk-toggleable__label-arrow\">Ridge</label><div class=\"sk-toggleable__content\"><pre>Ridge(alpha=0.01)</pre></div></div></div></div></div>"
            ]
          },
          "metadata": {},
          "execution_count": 126
        }
      ]
    },
    {
      "cell_type": "markdown",
      "source": [
        "Checking R-Squared score through Ridge model"
      ],
      "metadata": {
        "id": "jqWNbvKoPXcq"
      }
    },
    {
      "cell_type": "code",
      "source": [
        "r2_score(y_test, ridge.predict(X_test))"
      ],
      "metadata": {
        "colab": {
          "base_uri": "https://localhost:8080/"
        },
        "id": "YwnIwHKtNwTw",
        "outputId": "2c1110d5-790b-466b-db2d-89a905d33679"
      },
      "execution_count": 127,
      "outputs": [
        {
          "output_type": "execute_result",
          "data": {
            "text/plain": [
              "0.5366722483162493"
            ]
          },
          "metadata": {},
          "execution_count": 127
        }
      ]
    },
    {
      "cell_type": "code",
      "source": [
        "ms_error = mean_squared_error(y_test,ridge.predict(X_test))"
      ],
      "metadata": {
        "id": "XIgbY8hFRSjc"
      },
      "execution_count": 128,
      "outputs": []
    },
    {
      "cell_type": "code",
      "source": [
        "ms_error"
      ],
      "metadata": {
        "colab": {
          "base_uri": "https://localhost:8080/"
        },
        "id": "dUzZVkxiRr2m",
        "outputId": "c80e8ceb-6ee7-4655-b506-b2cf4b606f0e"
      },
      "execution_count": 129,
      "outputs": [
        {
          "output_type": "execute_result",
          "data": {
            "text/plain": [
              "0.013873063065852493"
            ]
          },
          "metadata": {},
          "execution_count": 129
        }
      ]
    },
    {
      "cell_type": "markdown",
      "source": [
        "Importing Decision Tree Regression from sklearn"
      ],
      "metadata": {
        "id": "U28XBU9G4ion"
      }
    },
    {
      "cell_type": "code",
      "source": [
        "from sklearn.tree import DecisionTreeRegressor"
      ],
      "metadata": {
        "id": "4dEHJCU63gwZ"
      },
      "execution_count": 130,
      "outputs": []
    },
    {
      "cell_type": "code",
      "source": [
        "regressor_a = DecisionTreeRegressor()"
      ],
      "metadata": {
        "id": "_Pvn1aR44g7C"
      },
      "execution_count": 131,
      "outputs": []
    },
    {
      "cell_type": "markdown",
      "source": [
        "Training Train Dataset in DecisionTree Regression model"
      ],
      "metadata": {
        "id": "1xA-eOFFc78s"
      }
    },
    {
      "cell_type": "code",
      "source": [
        "regressor_a.fit(X_train, y_train)"
      ],
      "metadata": {
        "colab": {
          "base_uri": "https://localhost:8080/",
          "height": 74
        },
        "id": "BugkKqZP4zlW",
        "outputId": "b11a2784-d0a9-4e0c-c811-fffaf6decab4"
      },
      "execution_count": 132,
      "outputs": [
        {
          "output_type": "execute_result",
          "data": {
            "text/plain": [
              "DecisionTreeRegressor()"
            ],
            "text/html": [
              "<style>#sk-container-id-10 {color: black;background-color: white;}#sk-container-id-10 pre{padding: 0;}#sk-container-id-10 div.sk-toggleable {background-color: white;}#sk-container-id-10 label.sk-toggleable__label {cursor: pointer;display: block;width: 100%;margin-bottom: 0;padding: 0.3em;box-sizing: border-box;text-align: center;}#sk-container-id-10 label.sk-toggleable__label-arrow:before {content: \"▸\";float: left;margin-right: 0.25em;color: #696969;}#sk-container-id-10 label.sk-toggleable__label-arrow:hover:before {color: black;}#sk-container-id-10 div.sk-estimator:hover label.sk-toggleable__label-arrow:before {color: black;}#sk-container-id-10 div.sk-toggleable__content {max-height: 0;max-width: 0;overflow: hidden;text-align: left;background-color: #f0f8ff;}#sk-container-id-10 div.sk-toggleable__content pre {margin: 0.2em;color: black;border-radius: 0.25em;background-color: #f0f8ff;}#sk-container-id-10 input.sk-toggleable__control:checked~div.sk-toggleable__content {max-height: 200px;max-width: 100%;overflow: auto;}#sk-container-id-10 input.sk-toggleable__control:checked~label.sk-toggleable__label-arrow:before {content: \"▾\";}#sk-container-id-10 div.sk-estimator input.sk-toggleable__control:checked~label.sk-toggleable__label {background-color: #d4ebff;}#sk-container-id-10 div.sk-label input.sk-toggleable__control:checked~label.sk-toggleable__label {background-color: #d4ebff;}#sk-container-id-10 input.sk-hidden--visually {border: 0;clip: rect(1px 1px 1px 1px);clip: rect(1px, 1px, 1px, 1px);height: 1px;margin: -1px;overflow: hidden;padding: 0;position: absolute;width: 1px;}#sk-container-id-10 div.sk-estimator {font-family: monospace;background-color: #f0f8ff;border: 1px dotted black;border-radius: 0.25em;box-sizing: border-box;margin-bottom: 0.5em;}#sk-container-id-10 div.sk-estimator:hover {background-color: #d4ebff;}#sk-container-id-10 div.sk-parallel-item::after {content: \"\";width: 100%;border-bottom: 1px solid gray;flex-grow: 1;}#sk-container-id-10 div.sk-label:hover label.sk-toggleable__label {background-color: #d4ebff;}#sk-container-id-10 div.sk-serial::before {content: \"\";position: absolute;border-left: 1px solid gray;box-sizing: border-box;top: 0;bottom: 0;left: 50%;z-index: 0;}#sk-container-id-10 div.sk-serial {display: flex;flex-direction: column;align-items: center;background-color: white;padding-right: 0.2em;padding-left: 0.2em;position: relative;}#sk-container-id-10 div.sk-item {position: relative;z-index: 1;}#sk-container-id-10 div.sk-parallel {display: flex;align-items: stretch;justify-content: center;background-color: white;position: relative;}#sk-container-id-10 div.sk-item::before, #sk-container-id-10 div.sk-parallel-item::before {content: \"\";position: absolute;border-left: 1px solid gray;box-sizing: border-box;top: 0;bottom: 0;left: 50%;z-index: -1;}#sk-container-id-10 div.sk-parallel-item {display: flex;flex-direction: column;z-index: 1;position: relative;background-color: white;}#sk-container-id-10 div.sk-parallel-item:first-child::after {align-self: flex-end;width: 50%;}#sk-container-id-10 div.sk-parallel-item:last-child::after {align-self: flex-start;width: 50%;}#sk-container-id-10 div.sk-parallel-item:only-child::after {width: 0;}#sk-container-id-10 div.sk-dashed-wrapped {border: 1px dashed gray;margin: 0 0.4em 0.5em 0.4em;box-sizing: border-box;padding-bottom: 0.4em;background-color: white;}#sk-container-id-10 div.sk-label label {font-family: monospace;font-weight: bold;display: inline-block;line-height: 1.2em;}#sk-container-id-10 div.sk-label-container {text-align: center;}#sk-container-id-10 div.sk-container {/* jupyter's `normalize.less` sets `[hidden] { display: none; }` but bootstrap.min.css set `[hidden] { display: none !important; }` so we also need the `!important` here to be able to override the default hidden behavior on the sphinx rendered scikit-learn.org. See: https://github.com/scikit-learn/scikit-learn/issues/21755 */display: inline-block !important;position: relative;}#sk-container-id-10 div.sk-text-repr-fallback {display: none;}</style><div id=\"sk-container-id-10\" class=\"sk-top-container\"><div class=\"sk-text-repr-fallback\"><pre>DecisionTreeRegressor()</pre><b>In a Jupyter environment, please rerun this cell to show the HTML representation or trust the notebook. <br />On GitHub, the HTML representation is unable to render, please try loading this page with nbviewer.org.</b></div><div class=\"sk-container\" hidden><div class=\"sk-item\"><div class=\"sk-estimator sk-toggleable\"><input class=\"sk-toggleable__control sk-hidden--visually\" id=\"sk-estimator-id-12\" type=\"checkbox\" checked><label for=\"sk-estimator-id-12\" class=\"sk-toggleable__label sk-toggleable__label-arrow\">DecisionTreeRegressor</label><div class=\"sk-toggleable__content\"><pre>DecisionTreeRegressor()</pre></div></div></div></div></div>"
            ]
          },
          "metadata": {},
          "execution_count": 132
        }
      ]
    },
    {
      "cell_type": "markdown",
      "source": [
        "Predicting test Dataset in decisionTree Regression model"
      ],
      "metadata": {
        "id": "I4CX8CC0dFPp"
      }
    },
    {
      "cell_type": "code",
      "source": [
        "y_predic_a = regressor_a.predict(X_test)"
      ],
      "metadata": {
        "id": "rwFCOXUf5bmu"
      },
      "execution_count": 133,
      "outputs": []
    },
    {
      "cell_type": "markdown",
      "source": [
        "Checking R-Squared score and MSE through DecisionTree Regression Model"
      ],
      "metadata": {
        "id": "UAOz3pcddOr3"
      }
    },
    {
      "cell_type": "code",
      "source": [
        "mse = mean_squared_error(y_test, y_predic_a)"
      ],
      "metadata": {
        "id": "D0lRhaaO5tW5"
      },
      "execution_count": 134,
      "outputs": []
    },
    {
      "cell_type": "code",
      "source": [
        "r2 = r2_score(y_test, y_predic_a)"
      ],
      "metadata": {
        "id": "lq9BvHwC57tS"
      },
      "execution_count": 135,
      "outputs": []
    },
    {
      "cell_type": "code",
      "source": [
        "print(\"Mean Squared Error:\", mse)\n",
        "print(\"R-squared (R2):\", r2)"
      ],
      "metadata": {
        "colab": {
          "base_uri": "https://localhost:8080/"
        },
        "id": "SEaWi27W6Ke0",
        "outputId": "c523776b-4086-4ce2-d473-17b273d8143a"
      },
      "execution_count": 136,
      "outputs": [
        {
          "output_type": "stream",
          "name": "stdout",
          "text": [
            "Mean Squared Error: 0.020867492376641917\n",
            "R-squared (R2): 0.3030747225574453\n"
          ]
        }
      ]
    },
    {
      "cell_type": "markdown",
      "source": [
        "Import gridsearchCV from sklearn library"
      ],
      "metadata": {
        "id": "3JQc_-vM9UVn"
      }
    },
    {
      "cell_type": "code",
      "source": [
        "from sklearn.model_selection import train_test_split, GridSearchCV"
      ],
      "metadata": {
        "id": "k-yR1e1f6S1Y"
      },
      "execution_count": 137,
      "outputs": []
    },
    {
      "cell_type": "markdown",
      "source": [
        "param grid from hyperparameter tuning"
      ],
      "metadata": {
        "id": "GFREDWaY9cqE"
      }
    },
    {
      "cell_type": "code",
      "source": [
        "param_grid = {\n",
        "    'max_depth': [None, 5, 10, 15],\n",
        "    'min_samples_split': [3, 4, 5],\n",
        "    'min_samples_leaf': [2, 4, 8]\n",
        "}"
      ],
      "metadata": {
        "id": "XN-N_K-89Wkt"
      },
      "execution_count": 138,
      "outputs": []
    },
    {
      "cell_type": "markdown",
      "source": [
        "Using GridSearch with decision Tree regression and training the data"
      ],
      "metadata": {
        "id": "-_rs4FaO9vNy"
      }
    },
    {
      "cell_type": "code",
      "source": [
        "grid_search = GridSearchCV(regressor_a, param_grid, cv=5, scoring='neg_mean_squared_error')\n",
        "grid_search.fit(X_train, y_train)"
      ],
      "metadata": {
        "colab": {
          "base_uri": "https://localhost:8080/",
          "height": 117
        },
        "id": "TnzOKk6t9qXL",
        "outputId": "57e427b3-d6a5-411e-fa48-4a5df3432d32"
      },
      "execution_count": 139,
      "outputs": [
        {
          "output_type": "execute_result",
          "data": {
            "text/plain": [
              "GridSearchCV(cv=5, estimator=DecisionTreeRegressor(),\n",
              "             param_grid={'max_depth': [None, 5, 10, 15],\n",
              "                         'min_samples_leaf': [2, 4, 8],\n",
              "                         'min_samples_split': [3, 4, 5]},\n",
              "             scoring='neg_mean_squared_error')"
            ],
            "text/html": [
              "<style>#sk-container-id-11 {color: black;background-color: white;}#sk-container-id-11 pre{padding: 0;}#sk-container-id-11 div.sk-toggleable {background-color: white;}#sk-container-id-11 label.sk-toggleable__label {cursor: pointer;display: block;width: 100%;margin-bottom: 0;padding: 0.3em;box-sizing: border-box;text-align: center;}#sk-container-id-11 label.sk-toggleable__label-arrow:before {content: \"▸\";float: left;margin-right: 0.25em;color: #696969;}#sk-container-id-11 label.sk-toggleable__label-arrow:hover:before {color: black;}#sk-container-id-11 div.sk-estimator:hover label.sk-toggleable__label-arrow:before {color: black;}#sk-container-id-11 div.sk-toggleable__content {max-height: 0;max-width: 0;overflow: hidden;text-align: left;background-color: #f0f8ff;}#sk-container-id-11 div.sk-toggleable__content pre {margin: 0.2em;color: black;border-radius: 0.25em;background-color: #f0f8ff;}#sk-container-id-11 input.sk-toggleable__control:checked~div.sk-toggleable__content {max-height: 200px;max-width: 100%;overflow: auto;}#sk-container-id-11 input.sk-toggleable__control:checked~label.sk-toggleable__label-arrow:before {content: \"▾\";}#sk-container-id-11 div.sk-estimator input.sk-toggleable__control:checked~label.sk-toggleable__label {background-color: #d4ebff;}#sk-container-id-11 div.sk-label input.sk-toggleable__control:checked~label.sk-toggleable__label {background-color: #d4ebff;}#sk-container-id-11 input.sk-hidden--visually {border: 0;clip: rect(1px 1px 1px 1px);clip: rect(1px, 1px, 1px, 1px);height: 1px;margin: -1px;overflow: hidden;padding: 0;position: absolute;width: 1px;}#sk-container-id-11 div.sk-estimator {font-family: monospace;background-color: #f0f8ff;border: 1px dotted black;border-radius: 0.25em;box-sizing: border-box;margin-bottom: 0.5em;}#sk-container-id-11 div.sk-estimator:hover {background-color: #d4ebff;}#sk-container-id-11 div.sk-parallel-item::after {content: \"\";width: 100%;border-bottom: 1px solid gray;flex-grow: 1;}#sk-container-id-11 div.sk-label:hover label.sk-toggleable__label {background-color: #d4ebff;}#sk-container-id-11 div.sk-serial::before {content: \"\";position: absolute;border-left: 1px solid gray;box-sizing: border-box;top: 0;bottom: 0;left: 50%;z-index: 0;}#sk-container-id-11 div.sk-serial {display: flex;flex-direction: column;align-items: center;background-color: white;padding-right: 0.2em;padding-left: 0.2em;position: relative;}#sk-container-id-11 div.sk-item {position: relative;z-index: 1;}#sk-container-id-11 div.sk-parallel {display: flex;align-items: stretch;justify-content: center;background-color: white;position: relative;}#sk-container-id-11 div.sk-item::before, #sk-container-id-11 div.sk-parallel-item::before {content: \"\";position: absolute;border-left: 1px solid gray;box-sizing: border-box;top: 0;bottom: 0;left: 50%;z-index: -1;}#sk-container-id-11 div.sk-parallel-item {display: flex;flex-direction: column;z-index: 1;position: relative;background-color: white;}#sk-container-id-11 div.sk-parallel-item:first-child::after {align-self: flex-end;width: 50%;}#sk-container-id-11 div.sk-parallel-item:last-child::after {align-self: flex-start;width: 50%;}#sk-container-id-11 div.sk-parallel-item:only-child::after {width: 0;}#sk-container-id-11 div.sk-dashed-wrapped {border: 1px dashed gray;margin: 0 0.4em 0.5em 0.4em;box-sizing: border-box;padding-bottom: 0.4em;background-color: white;}#sk-container-id-11 div.sk-label label {font-family: monospace;font-weight: bold;display: inline-block;line-height: 1.2em;}#sk-container-id-11 div.sk-label-container {text-align: center;}#sk-container-id-11 div.sk-container {/* jupyter's `normalize.less` sets `[hidden] { display: none; }` but bootstrap.min.css set `[hidden] { display: none !important; }` so we also need the `!important` here to be able to override the default hidden behavior on the sphinx rendered scikit-learn.org. See: https://github.com/scikit-learn/scikit-learn/issues/21755 */display: inline-block !important;position: relative;}#sk-container-id-11 div.sk-text-repr-fallback {display: none;}</style><div id=\"sk-container-id-11\" class=\"sk-top-container\"><div class=\"sk-text-repr-fallback\"><pre>GridSearchCV(cv=5, estimator=DecisionTreeRegressor(),\n",
              "             param_grid={&#x27;max_depth&#x27;: [None, 5, 10, 15],\n",
              "                         &#x27;min_samples_leaf&#x27;: [2, 4, 8],\n",
              "                         &#x27;min_samples_split&#x27;: [3, 4, 5]},\n",
              "             scoring=&#x27;neg_mean_squared_error&#x27;)</pre><b>In a Jupyter environment, please rerun this cell to show the HTML representation or trust the notebook. <br />On GitHub, the HTML representation is unable to render, please try loading this page with nbviewer.org.</b></div><div class=\"sk-container\" hidden><div class=\"sk-item sk-dashed-wrapped\"><div class=\"sk-label-container\"><div class=\"sk-label sk-toggleable\"><input class=\"sk-toggleable__control sk-hidden--visually\" id=\"sk-estimator-id-13\" type=\"checkbox\" ><label for=\"sk-estimator-id-13\" class=\"sk-toggleable__label sk-toggleable__label-arrow\">GridSearchCV</label><div class=\"sk-toggleable__content\"><pre>GridSearchCV(cv=5, estimator=DecisionTreeRegressor(),\n",
              "             param_grid={&#x27;max_depth&#x27;: [None, 5, 10, 15],\n",
              "                         &#x27;min_samples_leaf&#x27;: [2, 4, 8],\n",
              "                         &#x27;min_samples_split&#x27;: [3, 4, 5]},\n",
              "             scoring=&#x27;neg_mean_squared_error&#x27;)</pre></div></div></div><div class=\"sk-parallel\"><div class=\"sk-parallel-item\"><div class=\"sk-item\"><div class=\"sk-label-container\"><div class=\"sk-label sk-toggleable\"><input class=\"sk-toggleable__control sk-hidden--visually\" id=\"sk-estimator-id-14\" type=\"checkbox\" ><label for=\"sk-estimator-id-14\" class=\"sk-toggleable__label sk-toggleable__label-arrow\">estimator: DecisionTreeRegressor</label><div class=\"sk-toggleable__content\"><pre>DecisionTreeRegressor()</pre></div></div></div><div class=\"sk-serial\"><div class=\"sk-item\"><div class=\"sk-estimator sk-toggleable\"><input class=\"sk-toggleable__control sk-hidden--visually\" id=\"sk-estimator-id-15\" type=\"checkbox\" ><label for=\"sk-estimator-id-15\" class=\"sk-toggleable__label sk-toggleable__label-arrow\">DecisionTreeRegressor</label><div class=\"sk-toggleable__content\"><pre>DecisionTreeRegressor()</pre></div></div></div></div></div></div></div></div></div></div>"
            ]
          },
          "metadata": {},
          "execution_count": 139
        }
      ]
    },
    {
      "cell_type": "code",
      "source": [
        "best_params_1 = grid_search.best_params_"
      ],
      "metadata": {
        "id": "43DBfTid93rl"
      },
      "execution_count": 140,
      "outputs": []
    },
    {
      "cell_type": "markdown",
      "source": [
        "using best params for model and training again the data"
      ],
      "metadata": {
        "id": "_jmFmadiXpyt"
      }
    },
    {
      "cell_type": "code",
      "source": [
        "final_regressor = DecisionTreeRegressor(**best_params_1)\n",
        "final_regressor.fit(X_train, y_train)"
      ],
      "metadata": {
        "colab": {
          "base_uri": "https://localhost:8080/",
          "height": 74
        },
        "id": "CmBk9grr-BEi",
        "outputId": "7ae3bb01-f38c-4c9c-d82c-79764227fc3a"
      },
      "execution_count": 141,
      "outputs": [
        {
          "output_type": "execute_result",
          "data": {
            "text/plain": [
              "DecisionTreeRegressor(max_depth=5, min_samples_leaf=8, min_samples_split=3)"
            ],
            "text/html": [
              "<style>#sk-container-id-12 {color: black;background-color: white;}#sk-container-id-12 pre{padding: 0;}#sk-container-id-12 div.sk-toggleable {background-color: white;}#sk-container-id-12 label.sk-toggleable__label {cursor: pointer;display: block;width: 100%;margin-bottom: 0;padding: 0.3em;box-sizing: border-box;text-align: center;}#sk-container-id-12 label.sk-toggleable__label-arrow:before {content: \"▸\";float: left;margin-right: 0.25em;color: #696969;}#sk-container-id-12 label.sk-toggleable__label-arrow:hover:before {color: black;}#sk-container-id-12 div.sk-estimator:hover label.sk-toggleable__label-arrow:before {color: black;}#sk-container-id-12 div.sk-toggleable__content {max-height: 0;max-width: 0;overflow: hidden;text-align: left;background-color: #f0f8ff;}#sk-container-id-12 div.sk-toggleable__content pre {margin: 0.2em;color: black;border-radius: 0.25em;background-color: #f0f8ff;}#sk-container-id-12 input.sk-toggleable__control:checked~div.sk-toggleable__content {max-height: 200px;max-width: 100%;overflow: auto;}#sk-container-id-12 input.sk-toggleable__control:checked~label.sk-toggleable__label-arrow:before {content: \"▾\";}#sk-container-id-12 div.sk-estimator input.sk-toggleable__control:checked~label.sk-toggleable__label {background-color: #d4ebff;}#sk-container-id-12 div.sk-label input.sk-toggleable__control:checked~label.sk-toggleable__label {background-color: #d4ebff;}#sk-container-id-12 input.sk-hidden--visually {border: 0;clip: rect(1px 1px 1px 1px);clip: rect(1px, 1px, 1px, 1px);height: 1px;margin: -1px;overflow: hidden;padding: 0;position: absolute;width: 1px;}#sk-container-id-12 div.sk-estimator {font-family: monospace;background-color: #f0f8ff;border: 1px dotted black;border-radius: 0.25em;box-sizing: border-box;margin-bottom: 0.5em;}#sk-container-id-12 div.sk-estimator:hover {background-color: #d4ebff;}#sk-container-id-12 div.sk-parallel-item::after {content: \"\";width: 100%;border-bottom: 1px solid gray;flex-grow: 1;}#sk-container-id-12 div.sk-label:hover label.sk-toggleable__label {background-color: #d4ebff;}#sk-container-id-12 div.sk-serial::before {content: \"\";position: absolute;border-left: 1px solid gray;box-sizing: border-box;top: 0;bottom: 0;left: 50%;z-index: 0;}#sk-container-id-12 div.sk-serial {display: flex;flex-direction: column;align-items: center;background-color: white;padding-right: 0.2em;padding-left: 0.2em;position: relative;}#sk-container-id-12 div.sk-item {position: relative;z-index: 1;}#sk-container-id-12 div.sk-parallel {display: flex;align-items: stretch;justify-content: center;background-color: white;position: relative;}#sk-container-id-12 div.sk-item::before, #sk-container-id-12 div.sk-parallel-item::before {content: \"\";position: absolute;border-left: 1px solid gray;box-sizing: border-box;top: 0;bottom: 0;left: 50%;z-index: -1;}#sk-container-id-12 div.sk-parallel-item {display: flex;flex-direction: column;z-index: 1;position: relative;background-color: white;}#sk-container-id-12 div.sk-parallel-item:first-child::after {align-self: flex-end;width: 50%;}#sk-container-id-12 div.sk-parallel-item:last-child::after {align-self: flex-start;width: 50%;}#sk-container-id-12 div.sk-parallel-item:only-child::after {width: 0;}#sk-container-id-12 div.sk-dashed-wrapped {border: 1px dashed gray;margin: 0 0.4em 0.5em 0.4em;box-sizing: border-box;padding-bottom: 0.4em;background-color: white;}#sk-container-id-12 div.sk-label label {font-family: monospace;font-weight: bold;display: inline-block;line-height: 1.2em;}#sk-container-id-12 div.sk-label-container {text-align: center;}#sk-container-id-12 div.sk-container {/* jupyter's `normalize.less` sets `[hidden] { display: none; }` but bootstrap.min.css set `[hidden] { display: none !important; }` so we also need the `!important` here to be able to override the default hidden behavior on the sphinx rendered scikit-learn.org. See: https://github.com/scikit-learn/scikit-learn/issues/21755 */display: inline-block !important;position: relative;}#sk-container-id-12 div.sk-text-repr-fallback {display: none;}</style><div id=\"sk-container-id-12\" class=\"sk-top-container\"><div class=\"sk-text-repr-fallback\"><pre>DecisionTreeRegressor(max_depth=5, min_samples_leaf=8, min_samples_split=3)</pre><b>In a Jupyter environment, please rerun this cell to show the HTML representation or trust the notebook. <br />On GitHub, the HTML representation is unable to render, please try loading this page with nbviewer.org.</b></div><div class=\"sk-container\" hidden><div class=\"sk-item\"><div class=\"sk-estimator sk-toggleable\"><input class=\"sk-toggleable__control sk-hidden--visually\" id=\"sk-estimator-id-16\" type=\"checkbox\" checked><label for=\"sk-estimator-id-16\" class=\"sk-toggleable__label sk-toggleable__label-arrow\">DecisionTreeRegressor</label><div class=\"sk-toggleable__content\"><pre>DecisionTreeRegressor(max_depth=5, min_samples_leaf=8, min_samples_split=3)</pre></div></div></div></div></div>"
            ]
          },
          "metadata": {},
          "execution_count": 141
        }
      ]
    },
    {
      "cell_type": "markdown",
      "source": [
        "Predicting test data in regeression"
      ],
      "metadata": {
        "id": "a0MjEyhpX4AH"
      }
    },
    {
      "cell_type": "code",
      "source": [
        "y_pred_h = final_regressor.predict(X_test)"
      ],
      "metadata": {
        "id": "WMQEJjOr-K95"
      },
      "execution_count": 142,
      "outputs": []
    },
    {
      "cell_type": "markdown",
      "source": [
        "Checking R-Squared and MSE"
      ],
      "metadata": {
        "id": "COYpJIgdYHqA"
      }
    },
    {
      "cell_type": "code",
      "source": [
        "mse = mean_squared_error(y_test, y_pred_h)\n",
        "r2 = r2_score(y_test, y_pred_h)"
      ],
      "metadata": {
        "id": "OJHcomTq-jpi"
      },
      "execution_count": 143,
      "outputs": []
    },
    {
      "cell_type": "code",
      "source": [
        "print(\"Best Hyperparameters:\", best_params_1)\n",
        "print(\"Mean Squared Error:\", mse)\n",
        "print(\"R-squared (R2):\", r2)"
      ],
      "metadata": {
        "colab": {
          "base_uri": "https://localhost:8080/"
        },
        "id": "714aBgEM-wKY",
        "outputId": "e6b9d0ee-4ac3-4532-af41-f56ea1aba3c8"
      },
      "execution_count": 144,
      "outputs": [
        {
          "output_type": "stream",
          "name": "stdout",
          "text": [
            "Best Hyperparameters: {'max_depth': 5, 'min_samples_leaf': 8, 'min_samples_split': 3}\n",
            "Mean Squared Error: 0.012725670630297977\n",
            "R-squared (R2): 0.574992463177303\n"
          ]
        }
      ]
    },
    {
      "cell_type": "markdown",
      "source": [
        "Import necessary libraries for Random Forest Regression"
      ],
      "metadata": {
        "id": "ONfd_hKqUwB4"
      }
    },
    {
      "cell_type": "code",
      "source": [
        "from sklearn.ensemble import RandomForestRegressor"
      ],
      "metadata": {
        "id": "HXvUXIknIqbn"
      },
      "execution_count": 145,
      "outputs": []
    },
    {
      "cell_type": "code",
      "source": [
        "import matplotlib.pyplot as plt"
      ],
      "metadata": {
        "id": "d-UlHUNYUvWA"
      },
      "execution_count": 146,
      "outputs": []
    },
    {
      "cell_type": "markdown",
      "source": [
        " Make predictions on the test data"
      ],
      "metadata": {
        "id": "2cvkhu9WVWys"
      }
    },
    {
      "cell_type": "code",
      "source": [
        "rf_regressor = RandomForestRegressor(n_estimators=100, random_state=42)"
      ],
      "metadata": {
        "id": "aOL19s23Uzya"
      },
      "execution_count": 147,
      "outputs": []
    },
    {
      "cell_type": "markdown",
      "source": [
        "Fit the model to the training data"
      ],
      "metadata": {
        "id": "y4aIfHylWtd6"
      }
    },
    {
      "cell_type": "code",
      "source": [
        "rf_regressor.fit(X_train, y_train)\n",
        "y_pred_rf = rf_regressor.predict(X_test)"
      ],
      "metadata": {
        "id": "MtGnPB_B-yF1"
      },
      "execution_count": 148,
      "outputs": []
    },
    {
      "cell_type": "markdown",
      "source": [
        "Calculate Mean Squared Error (MSE) and R-squared (R2)"
      ],
      "metadata": {
        "id": "mX9xNGzQVWSS"
      }
    },
    {
      "cell_type": "code",
      "source": [
        "mse = mean_squared_error(y_test, y_pred_rf)\n",
        "r2 = r2_score(y_test, y_pred_rf)\n",
        "\n",
        "print(\"Mean Squared Error (MSE):\", mse)\n",
        "print(\"R-squared (R2):\", r2)"
      ],
      "metadata": {
        "colab": {
          "base_uri": "https://localhost:8080/"
        },
        "id": "J6lx8VCYVDU-",
        "outputId": "15d655de-9608-4317-c5d1-988cb42e5fc6"
      },
      "execution_count": 149,
      "outputs": [
        {
          "output_type": "stream",
          "name": "stdout",
          "text": [
            "Mean Squared Error (MSE): 0.010522536451799099\n",
            "R-squared (R2): 0.6485719748349751\n"
          ]
        }
      ]
    },
    {
      "cell_type": "markdown",
      "source": [
        "Plot actual vs. predicted\n",
        "\n"
      ],
      "metadata": {
        "id": "UGq7CJv6VYEW"
      }
    },
    {
      "cell_type": "code",
      "source": [
        "plt.scatter(y_test, y_pred_rf)\n",
        "plt.xlabel(\"Actual Values\")\n",
        "plt.ylabel(\"Predicted Values\")\n",
        "plt.title(\"Actual vs. Predicted Values for Random Forest Regression\")\n",
        "plt.grid(True)\n",
        "plt.show()"
      ],
      "metadata": {
        "colab": {
          "base_uri": "https://localhost:8080/",
          "height": 472
        },
        "id": "Mg0RgzWDVPTt",
        "outputId": "bd080ec1-c4e4-4cce-cb9f-77df54699cdf"
      },
      "execution_count": 150,
      "outputs": [
        {
          "output_type": "display_data",
          "data": {
            "text/plain": [
              "<Figure size 640x480 with 1 Axes>"
            ],
            "image/png": "[encoded data removed]"
          },
          "metadata": {}
        }
      ]
    },
    {
      "cell_type": "code",
      "source": [],
      "metadata": {
        "id": "JQCX0oW4Vdtd"
      },
      "execution_count": 150,
      "outputs": []
    },
    {
      "cell_type": "markdown",
      "source": [
        "Q1.Your views about the problem statement?\n",
        "  - Business Relevance: Determining the salaries of newly hired employees is a critical aspect of human resource management for any company. A well-designed machine learning model can assist in setting competitive and equitable salary offers, which can ultimately lead to higher employee satisfaction and better talent acquisition.\n",
        "\n",
        "Regression Task: This is a regression problem.\n",
        "\n",
        "Data Availability: The success of the machine learning model depends on the availability and quality of the training data. The dataset should contain historical salary information for existing employees and associated features. It's essential to have accurate, complete, and representative data.\n",
        "\n",
        "Feature Engineering: Feature engineering plays a crucial role in this task. You may need to consider which features are most relevant for predicting salaries and how to encode categorical features, such as job roles and locations. Domain knowledge can be valuable in this regard.\n",
        "\n",
        "Model Selection: Choosing an appropriate regression model is important. Linear regression is a common choice, but more complex models like decision tree regression, random forest regression, or gradient boosting can capture non-linear relationships in the data.\n",
        "\n",
        "Evaluation Metrics: To assess the model's performance, evaluation metrics like Mean Squared Error (MSE), Root Mean Squared Error (RMSE), Mean Absolute Error (MAE), and R-squared (R2) can be used. Cross-validation and testing on unseen data are necessary to ensure the model's generalization capability.\n",
        "\n",
        "Ethical Considerations: Ensuring fairness and avoiding bias in salary predictions is crucial. Models should be monitored for any signs of discrimination or inequity based on gender, race, or other protected characteristics.\n",
        "\n",
        "Model Deployment: Once the model is trained and validated, it can be integrated into the company's HR processes for salary determination. Regular updates and maintenance may be required as the data evolves.\n",
        "\n",
        "Data Privacy and Security: Protecting the privacy and security of employee data is paramount. The data should be anonymized and stored securely in compliance with data protection regulations.\n",
        "\n",
        "Communication and Transparency: Clear communication with relevant stakeholders, including HR and management, is essential. They need to understand how the model works, its limitations, and the factors it considers when determining salaries.\n",
        "\n",
        "\n",
        "\n",
        "\n"
      ],
      "metadata": {
        "id": "HoT8MilNjb1U"
      }
    },
    {
      "cell_type": "markdown",
      "source": [
        "Q2. What will be your approach to solving this task?\n",
        " -\n",
        "To create a machine learning model that helps a company determine the salary of newly hired employees using given data, you can follow a systematic approach. Here's a step-by-step guide to solving this task:\n",
        "\n",
        "Data Collection:Gather historical data on existing employees, including their salaries and various features that are likely to influence salary decisions. This data serves as your training dataset.\n",
        "\n",
        "Data Preprocessing:Clean the data by handling missing values, outliers, and any data anomalies.\n",
        "Encode categorical variables into numerical representations using techniques like one-hot encoding or label encoding.\n",
        "Normalize or scale numerical features to ensure all variables have the same scale.\n",
        "\n",
        "Feature Engineering:Select and engineer relevant features that have a strong impact on salary predictions. This may involve creating new features, such as years of experience, educational qualifications, job roles, location-based factors, or industry-specific attributes.\n",
        "Consider interactions or nonlinear transformations of features if they are likely to improve prediction accuracy.\n",
        "\n",
        "Data Splitting:Divide your dataset into a training set and a testing set. The training set is used to train the machine learning model, while the testing set is reserved for evaluating its performance.\n",
        "\n",
        "Model Selection:Choose an appropriate regression model for the task. Common choices include Linear Regression, Decision Tree Regression, Random Forest Regression.\n",
        "The selection of the model may depend on the complexity of the problem and the characteristics of the data.\n",
        "Model Training:\n",
        "\n",
        "Train the selected regression model using the training dataset. The model will learn the relationships between the features and salary.\n",
        "Model Evaluation:\n",
        "Assess the model's performance on the testing dataset using relevant evaluation metrics, such as Mean Squared Error (MSE), and R-squared (R2).\n",
        "Cross-validation techniques can be used to validate the model's generalization capabilities.\n",
        "Hyperparameter Tuning:\n",
        "Fine-tune the model's hyperparameters to optimize its performance. This may involve adjusting learning rates, regularization strengths, tree depths, or the number of estimators in ensemble models.\n",
        "Model Interpretability:\n",
        "Depending on the company's needs, select a model that provides interpretability. This can help HR professionals understand the factors influencing salary predictions.\n",
        "Deployment:\n",
        "\n",
        "Once the model performs satisfactorily, deploy it in a production environment to assist HR professionals in determining salaries for newly hired employees. Integration with HR software or platforms can streamline the process.\n",
        "Monitoring and Maintenance:\n",
        "\n",
        "Continuously monitor the model's performance and update it as new data becomes available. Ensuring that the model remains up-to-date is crucial for its accuracy and relevance.\n"
      ],
      "metadata": {
        "id": "JHsLpiFzkJSY"
      }
    },
    {
      "cell_type": "markdown",
      "source": [
        "Q3.What were the available ML model options you had to perform this task?\n",
        " - Linear Regression:\n",
        "Linear regression is a simple and interpretable model that assumes a linear relationship between the features and the target variable (salary). It can be a good starting point for salary prediction tasks.\n",
        "Decision Tree Regression:\n",
        "Decision tree regression models the relationship between features and salary by recursively partitioning the data into subsets based on feature values. It can capture complex, nonlinear relationships.\n",
        "Random Forest Regression:\n",
        "Random forest regression is an ensemble model that combines multiple decision trees to improve accuracy and robustness. It can handle noisy data and provide feature importance rankings.\n",
        "Ridge and Lasso Regression:\n",
        "Ridge and Lasso are regularization techniques that can be applied to linear regression to prevent overfitting and improve generalization.\n",
        "\n",
        "The choice of the model should be guided by the characteristics of your data, the desired level of interpretability, the need for model complexity, and the trade-off between bias and variance. You may also consider using ensemble methods to combine multiple models for improved performance. Experimenting with multiple models and comparing their performance using appropriate evaluation metrics is a recommended practice when solving salary prediction tasks."
      ],
      "metadata": {
        "id": "hAzX9fv8lIdJ"
      }
    },
    {
      "cell_type": "markdown",
      "source": [
        "Q4.Which model’s performance is best and what could be the possible reason for that?\n",
        "- Determining the best-performing machine learning model for predicting the salary of newly hired employees depends on the specific dataset, the features available, and the complexity of the underlying relationships. The \"best\" model is typically the one that achieves the highest predictive accuracy on a testing dataset. Common evaluation metrics for regression tasks like this include Mean Squared Error (MSE), and R-squared (R2).\n",
        "The possible reasons for one model outperforming others can vary and may include:\n",
        "Data Complexity: The nature of the data and the underlying relationships between features and salary can significantly influence model performance. If the relationships are highly nonlinear, models like Random Forest Regression or Gradient Boosting Regression may perform better than linear models.\n",
        "Feature Engineering: The quality of feature engineering, including the selection and creation of relevant features, can impact model performance. Some models may be more sensitive to feature engineering than others.\n",
        "Overfitting: More complex models, such as deep neural networks or Random Forests with a large number of trees, may be prone to overfitting, especially if the dataset is small. Regularization techniques and proper hyperparameter tuning can mitigate overfitting.\n",
        "Bias-Variance Trade-Off: Models with higher complexity may have a higher variance, making them sensitive to noise in the data. Simpler models like Linear Regression may have lower variance but potentially higher bias. The choice between bias and variance depends on the dataset and the goals.\n",
        "Hyperparameter Tuning: The quality of hyperparameter tuning can significantly affect model performance. Grid search, randomized search, or Bayesian optimization can help find the optimal hyperparameters for each model.\n",
        "Cross-Validation: The choice of cross-validation strategy can influence the assessment of model performance. For instance, k-fold cross-validation may provide more reliable estimates of model performance compared to a single train-test split.\n",
        "\n",
        "For this DataSet the best model i like to suggested and i have done it is Random Forest Tree Rgression. Because it give more R-Squared score and MSE then any other model."
      ],
      "metadata": {
        "id": "ybeFaVWNmG_G"
      }
    },
    {
      "cell_type": "markdown",
      "source": [
        "Q5.What steps can you take to improve this selected model’s performance even further?\n",
        "- Data Quality and Feature Engineering:\n",
        "\n",
        "Ensure data quality by addressing missing values and outliers.\n",
        "Continue to refine and engineer features to capture more relevant information.\n",
        "Collect More Data:\n",
        "If feasible, gather more data to increase the size of the training dataset. A larger dataset can often lead to more robust models.\n",
        "Regularization:\n",
        "Implement regularization techniques such as Ridge and Lasso regression to prevent overfitting and enhance generalization.\n",
        "Hyperparameter Tuning:\n",
        "Fine-tune the model's hyperparameters using techniques like grid search, randomized search, or Bayesian optimization. This can help find the optimal configuration for the model.\n",
        "Ensemble Methods:\n",
        "Experiment with model ensembles by combining the predictions of multiple models. Techniques like bagging and boosting can lead to better overall performance.\n",
        "Advanced Models:\n",
        "Consider more complex and powerful models, such as deep learning architectures (neural networks), which can capture intricate patterns and relationships in the data.\n",
        "Cross-Validation:\n",
        "Use more sophisticated cross-validation techniques, such as stratified K-fold or time series cross-validation, to obtain more accurate estimates of model performance.\n",
        "Feature Selection:\n",
        "Employ feature selection methods to identify the most relevant features for salary prediction. Eliminating irrelevant or redundant features can improve model efficiency.\n",
        "Regular Feature Updates:\n",
        "Continuously update the dataset and retrain the model to adapt to changing compensation standards and market conditions.\n",
        "Ethical Considerations:\n",
        "Ensure fairness and prevent biases in salary predictions. Regularly audit the model to identify and mitigate any discrimination based on protected characteristics.\n",
        "Interpretability and Explainability:\n",
        "Implement techniques that provide interpretability, making it easier to explain to stakeholders why the model makes specific predictions.\n",
        "Feature Scaling:\n",
        "Standardize or normalize numerical features to ensure that they have a similar scale, which can improve model convergence and performance.\n",
        "Data Augmentation,Residual Analysis,Sensitivity Analysis,Model Stacking,\n",
        "Domain Knowledge:Feedback Loop,Model Deployment and Monitoring:\n",
        "\n"
      ],
      "metadata": {
        "id": "9N2ItfRrnTD0"
      }
    },
    {
      "cell_type": "code",
      "source": [],
      "metadata": {
        "id": "xbwLvCs4VJSV"
      },
      "execution_count": 150,
      "outputs": []
    },
    {
      "cell_type": "code",
      "source": [],
      "metadata": {
        "id": "gr0hpiDk-uHB"
      },
      "execution_count": 150,
      "outputs": []
    },
    {
      "cell_type": "code",
      "source": [],
      "metadata": {
        "id": "4jtkHcKK-Gbj"
      },
      "execution_count": 150,
      "outputs": []
    },
    {
      "cell_type": "code",
      "source": [],
      "metadata": {
        "id": "C3H6S5Ve9xAh"
      },
      "execution_count": 150,
      "outputs": []
    },
    {
      "cell_type": "code",
      "source": [],
      "metadata": {
        "id": "gQO8zjZF5UNG"
      },
      "execution_count": 150,
      "outputs": []
    }
  ]
}